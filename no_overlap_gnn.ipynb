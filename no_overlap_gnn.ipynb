{
  "cells": [
    {
      "attachments": {},
      "cell_type": "markdown",
      "metadata": {},
      "source": [
        "## Data Preprocessing"
      ]
    },
    {
      "cell_type": "code",
      "execution_count": 7,
      "metadata": {
        "id": "HI9QAIYBwTVT"
      },
      "outputs": [],
      "source": [
        "import numpy as np\n",
        "import pandas as pd\n",
        "from datetime import datetime\n",
        "from datetime import timedelta\n",
        "from sklearn.utils.extmath import cartesian\n",
        "from geopy.distance import geodesic"
      ]
    },
    {
      "attachments": {},
      "cell_type": "markdown",
      "metadata": {
        "id": "albAPKxpwFfW"
      },
      "source": [
        "### Data Loading and Cleaning"
      ]
    },
    {
      "cell_type": "code",
      "execution_count": null,
      "metadata": {
        "colab": {
          "base_uri": "https://localhost:8080/",
          "height": 658
        },
        "id": "q8XALaRDrb8h",
        "outputId": "6cb7a6cb-c3b8-4107-db98-b5c1b805848e"
      },
      "outputs": [],
      "source": [
        "# start_month: 1-12\n",
        "def download_data(start_year, start_month=1, path = 'Data'):\n",
        "  start_month = start_month - 1\n",
        "\n",
        "  months = [\"01\", \"02\", \"03\", \"04\", \"05\", \"06\", \"07\", \"08\", \"09\", \"10\", \"11\", \"12\"]\n",
        "  start_year = 2017 if start_year < 2017 else start_year # limiting to 2017 because they had different data structures before that\n",
        "  end_year = 2023\n",
        "  end_month = 3\n",
        "  data_frames = []\n",
        "\n",
        "  for i in range(12 * (end_year - start_year) + end_month - start_month):\n",
        "    month = months[(i + start_month) % 12]\n",
        "    year = int(start_year + (i + start_month) / 12)\n",
        "    \n",
        "    #Use below for google colab\n",
        "    '''\n",
        "    !echo http://s3.amazonaws.com/tripdata/$year$month-citibike-tripdata.csv.zip\n",
        "    !wget -q http://s3.amazonaws.com/tripdata/$year$month-citibike-tripdata.csv.zip\n",
        "    !unzip -o $year$month-citibike-tripdata.csv.zip\n",
        "    # for some reason these downloads fail, we can upload the data manually\n",
        "    if not (year == 2022 and month == \"06\") and not (year == 2022 and month == \"07\"):\n",
        "      data_frames.append(pd.read_csv(\"{}{}-citibike-tripdata.csv\".format(year, month)))\n",
        "    '''\n",
        "    #Use below for not google colab (must download and extract csv files into folder specified by path parameter)\n",
        "    data_frames.append(pd.read_csv(path + \"\\{}{}-citibike-tripdata.csv\".format(year, month)))\n",
        "  \n",
        "  final_df = pd.concat(data_frames, axis=0, ignore_index=True)\n",
        "  data_frames = []\n",
        "  final_df.dropna(inplace=True) # drop NaN\n",
        "  final_df = final_df.sort_values(by=\"started_at\") # sort by start time\n",
        "\n",
        "  return final_df\n",
        "\n",
        "data = download_data(2023, 1)\n",
        "data.head() # we will split train/test data later"
      ]
    },
    {
      "cell_type": "code",
      "execution_count": 9,
      "metadata": {},
      "outputs": [
        {
          "data": {
            "text/plain": [
              "5786048"
            ]
          },
          "execution_count": 9,
          "metadata": {},
          "output_type": "execute_result"
        }
      ],
      "source": [
        "len(data)"
      ]
    },
    {
      "attachments": {},
      "cell_type": "markdown",
      "metadata": {
        "id": "Kv9km2OhwK6v"
      },
      "source": [
        "### Data Preprocessing- Mundane Stuff\n"
      ]
    },
    {
      "cell_type": "code",
      "execution_count": 10,
      "metadata": {},
      "outputs": [
        {
          "data": {
            "text/plain": [
              "array([6955.01, '7634.01', '5267.08', ..., 7511.19, 7372.1, 6280.12],\n",
              "      dtype=object)"
            ]
          },
          "execution_count": 10,
          "metadata": {},
          "output_type": "execute_result"
        }
      ],
      "source": [
        "data['start_station_id'].values"
      ]
    },
    {
      "cell_type": "code",
      "execution_count": 11,
      "metadata": {
        "id": "FxJ7RwvhFzzR"
      },
      "outputs": [
        {
          "data": {
            "text/plain": [
              "\"\\n#Reassigns station id to a standard #, taking to account if there are some end stations not in start stations and vice verso\\nall_location_ids = np.concatenate((data['start_station_id'].values, data['end_station_id']), axis=0).astype(str)\\nall_location_ids = np.unique(all_location_ids)\\nnew_ids = list(range(len(all_location_ids)))\\nmapping = dict(zip(all_location_ids, new_ids))\\n\\ndata['start_station_id'] = data['start_station_id'].astype(str).map(mapping)\\ndata['end_station_id'] = data['end_station_id'].astype(str).map(mapping)\\n\""
            ]
          },
          "execution_count": 11,
          "metadata": {},
          "output_type": "execute_result"
        }
      ],
      "source": [
        "\n",
        "#This code does not take into account if there are some end stations that are not in start stations\n",
        "# Reassign the station id to a standard #\n",
        "locations = data['start_station_id'].unique()\n",
        "new_ids = list(range(len(data['start_station_id'].unique())))\n",
        "mapping = dict(zip(locations, new_ids))\n",
        "\n",
        "data['start_station_id'] = data['start_station_id'].map(mapping)\n",
        "data['end_station_id'] = data['end_station_id'].map(mapping)\n",
        "\n",
        "'''\n",
        "#Reassigns station id to a standard #, taking to account if there are some end stations not in start stations and vice verso\n",
        "all_location_ids = np.concatenate((data['start_station_id'].values, data['end_station_id']), axis=0).astype(str)\n",
        "all_location_ids = np.unique(all_location_ids)\n",
        "new_ids = list(range(len(all_location_ids)))\n",
        "mapping = dict(zip(all_location_ids, new_ids))\n",
        "\n",
        "data['start_station_id'] = data['start_station_id'].astype(str).map(mapping)\n",
        "data['end_station_id'] = data['end_station_id'].astype(str).map(mapping)\n",
        "'''"
      ]
    },
    {
      "cell_type": "code",
      "execution_count": 12,
      "metadata": {},
      "outputs": [
        {
          "data": {
            "text/html": [
              "<div>\n",
              "<style scoped>\n",
              "    .dataframe tbody tr th:only-of-type {\n",
              "        vertical-align: middle;\n",
              "    }\n",
              "\n",
              "    .dataframe tbody tr th {\n",
              "        vertical-align: top;\n",
              "    }\n",
              "\n",
              "    .dataframe thead th {\n",
              "        text-align: right;\n",
              "    }\n",
              "</style>\n",
              "<table border=\"1\" class=\"dataframe\">\n",
              "  <thead>\n",
              "    <tr style=\"text-align: right;\">\n",
              "      <th></th>\n",
              "      <th>ride_id</th>\n",
              "      <th>rideable_type</th>\n",
              "      <th>started_at</th>\n",
              "      <th>ended_at</th>\n",
              "      <th>start_station_name</th>\n",
              "      <th>start_station_id</th>\n",
              "      <th>end_station_name</th>\n",
              "      <th>end_station_id</th>\n",
              "      <th>start_lat</th>\n",
              "      <th>start_lng</th>\n",
              "      <th>end_lat</th>\n",
              "      <th>end_lng</th>\n",
              "      <th>member_casual</th>\n",
              "    </tr>\n",
              "  </thead>\n",
              "  <tbody>\n",
              "    <tr>\n",
              "      <th>509157</th>\n",
              "      <td>636C34990A33F57C</td>\n",
              "      <td>electric_bike</td>\n",
              "      <td>2023-01-01 04:33:23</td>\n",
              "      <td>2023-01-01 05:30:29</td>\n",
              "      <td>Allen St &amp; Stanton St</td>\n",
              "      <td>252</td>\n",
              "      <td>Lafayette Park</td>\n",
              "      <td>NaN</td>\n",
              "      <td>40.722055</td>\n",
              "      <td>-73.989111</td>\n",
              "      <td>40.713464</td>\n",
              "      <td>-74.062859</td>\n",
              "      <td>casual</td>\n",
              "    </tr>\n",
              "    <tr>\n",
              "      <th>1726989</th>\n",
              "      <td>4DD951937B2DC1E4</td>\n",
              "      <td>classic_bike</td>\n",
              "      <td>2023-01-01 06:50:31</td>\n",
              "      <td>2023-01-01 07:12:59</td>\n",
              "      <td>Lincoln Pl &amp; Nostrand Ave</td>\n",
              "      <td>485</td>\n",
              "      <td>Pier 40 Dock Station</td>\n",
              "      <td>NaN</td>\n",
              "      <td>40.670704</td>\n",
              "      <td>-73.950649</td>\n",
              "      <td>40.728660</td>\n",
              "      <td>-74.011980</td>\n",
              "      <td>member</td>\n",
              "    </tr>\n",
              "    <tr>\n",
              "      <th>1731836</th>\n",
              "      <td>C147E61B256816F2</td>\n",
              "      <td>classic_bike</td>\n",
              "      <td>2023-01-02 06:27:29</td>\n",
              "      <td>2023-01-02 06:33:48</td>\n",
              "      <td>Vesey St &amp; Church St</td>\n",
              "      <td>1972</td>\n",
              "      <td>Pier 40 Dock Station</td>\n",
              "      <td>NaN</td>\n",
              "      <td>40.712196</td>\n",
              "      <td>-74.010544</td>\n",
              "      <td>40.728660</td>\n",
              "      <td>-74.011980</td>\n",
              "      <td>casual</td>\n",
              "    </tr>\n",
              "    <tr>\n",
              "      <th>706989</th>\n",
              "      <td>91D92EA3A36C7D7D</td>\n",
              "      <td>classic_bike</td>\n",
              "      <td>2023-01-02 07:07:03</td>\n",
              "      <td>2023-01-02 07:13:30</td>\n",
              "      <td>Hudson St &amp; Reade St</td>\n",
              "      <td>709</td>\n",
              "      <td>Pier 40 Dock Station</td>\n",
              "      <td>NaN</td>\n",
              "      <td>40.716253</td>\n",
              "      <td>-74.009220</td>\n",
              "      <td>40.728660</td>\n",
              "      <td>-74.011980</td>\n",
              "      <td>casual</td>\n",
              "    </tr>\n",
              "    <tr>\n",
              "      <th>282851</th>\n",
              "      <td>0338F3A873C6CAE9</td>\n",
              "      <td>classic_bike</td>\n",
              "      <td>2023-01-02 15:34:03</td>\n",
              "      <td>2023-01-02 16:39:45</td>\n",
              "      <td>Cabrini Blvd &amp; W 177 St</td>\n",
              "      <td>2827</td>\n",
              "      <td>Bloomfield St &amp; 15 St</td>\n",
              "      <td>NaN</td>\n",
              "      <td>40.848282</td>\n",
              "      <td>-73.941343</td>\n",
              "      <td>40.754530</td>\n",
              "      <td>-74.026580</td>\n",
              "      <td>casual</td>\n",
              "    </tr>\n",
              "    <tr>\n",
              "      <th>...</th>\n",
              "      <td>...</td>\n",
              "      <td>...</td>\n",
              "      <td>...</td>\n",
              "      <td>...</td>\n",
              "      <td>...</td>\n",
              "      <td>...</td>\n",
              "      <td>...</td>\n",
              "      <td>...</td>\n",
              "      <td>...</td>\n",
              "      <td>...</td>\n",
              "      <td>...</td>\n",
              "      <td>...</td>\n",
              "      <td>...</td>\n",
              "    </tr>\n",
              "    <tr>\n",
              "      <th>5256465</th>\n",
              "      <td>38D37DDB44C2E92C</td>\n",
              "      <td>classic_bike</td>\n",
              "      <td>2023-03-31 23:51:46</td>\n",
              "      <td>2023-04-01 00:17:06</td>\n",
              "      <td>Norfolk St &amp; Broome St</td>\n",
              "      <td>926</td>\n",
              "      <td>N 5 St &amp; Northside Piers</td>\n",
              "      <td>NaN</td>\n",
              "      <td>40.717227</td>\n",
              "      <td>-73.988021</td>\n",
              "      <td>40.720000</td>\n",
              "      <td>-73.960000</td>\n",
              "      <td>casual</td>\n",
              "    </tr>\n",
              "    <tr>\n",
              "      <th>5256482</th>\n",
              "      <td>F274040891724C87</td>\n",
              "      <td>classic_bike</td>\n",
              "      <td>2023-03-31 23:52:26</td>\n",
              "      <td>2023-04-01 00:16:57</td>\n",
              "      <td>Norfolk St &amp; Broome St</td>\n",
              "      <td>926</td>\n",
              "      <td>N 5 St &amp; Northside Piers</td>\n",
              "      <td>NaN</td>\n",
              "      <td>40.717227</td>\n",
              "      <td>-73.988021</td>\n",
              "      <td>40.720000</td>\n",
              "      <td>-73.960000</td>\n",
              "      <td>member</td>\n",
              "    </tr>\n",
              "    <tr>\n",
              "      <th>4734215</th>\n",
              "      <td>6D1BF016F8A998E7</td>\n",
              "      <td>classic_bike</td>\n",
              "      <td>2023-03-31 23:55:57</td>\n",
              "      <td>2023-03-31 23:58:35</td>\n",
              "      <td>Kent St &amp; McGuinness Blvd</td>\n",
              "      <td>127</td>\n",
              "      <td>N Henry St &amp; Norman Ave</td>\n",
              "      <td>NaN</td>\n",
              "      <td>40.731264</td>\n",
              "      <td>-73.951538</td>\n",
              "      <td>40.730000</td>\n",
              "      <td>-73.940000</td>\n",
              "      <td>member</td>\n",
              "    </tr>\n",
              "    <tr>\n",
              "      <th>4348934</th>\n",
              "      <td>61ED48008D685781</td>\n",
              "      <td>classic_bike</td>\n",
              "      <td>2023-03-31 23:57:22</td>\n",
              "      <td>2023-04-01 00:08:20</td>\n",
              "      <td>Waterbury St &amp; Stagg St</td>\n",
              "      <td>12</td>\n",
              "      <td>S 4 St &amp; Roebling St</td>\n",
              "      <td>NaN</td>\n",
              "      <td>40.710190</td>\n",
              "      <td>-73.937340</td>\n",
              "      <td>40.710000</td>\n",
              "      <td>-73.960000</td>\n",
              "      <td>casual</td>\n",
              "    </tr>\n",
              "    <tr>\n",
              "      <th>5272196</th>\n",
              "      <td>6DBC5608C9E0CF3C</td>\n",
              "      <td>classic_bike</td>\n",
              "      <td>2023-03-31 23:58:38</td>\n",
              "      <td>2023-04-01 00:01:47</td>\n",
              "      <td>Metropolitan Ave &amp; Bedford Ave</td>\n",
              "      <td>1332</td>\n",
              "      <td>N 5 St &amp; Northside Piers</td>\n",
              "      <td>NaN</td>\n",
              "      <td>40.715348</td>\n",
              "      <td>-73.960241</td>\n",
              "      <td>40.720000</td>\n",
              "      <td>-73.960000</td>\n",
              "      <td>member</td>\n",
              "    </tr>\n",
              "  </tbody>\n",
              "</table>\n",
              "<p>6070 rows × 13 columns</p>\n",
              "</div>"
            ],
            "text/plain": [
              "                  ride_id  rideable_type           started_at  \\\n",
              "509157   636C34990A33F57C  electric_bike  2023-01-01 04:33:23   \n",
              "1726989  4DD951937B2DC1E4   classic_bike  2023-01-01 06:50:31   \n",
              "1731836  C147E61B256816F2   classic_bike  2023-01-02 06:27:29   \n",
              "706989   91D92EA3A36C7D7D   classic_bike  2023-01-02 07:07:03   \n",
              "282851   0338F3A873C6CAE9   classic_bike  2023-01-02 15:34:03   \n",
              "...                   ...            ...                  ...   \n",
              "5256465  38D37DDB44C2E92C   classic_bike  2023-03-31 23:51:46   \n",
              "5256482  F274040891724C87   classic_bike  2023-03-31 23:52:26   \n",
              "4734215  6D1BF016F8A998E7   classic_bike  2023-03-31 23:55:57   \n",
              "4348934  61ED48008D685781   classic_bike  2023-03-31 23:57:22   \n",
              "5272196  6DBC5608C9E0CF3C   classic_bike  2023-03-31 23:58:38   \n",
              "\n",
              "                    ended_at              start_station_name  \\\n",
              "509157   2023-01-01 05:30:29           Allen St & Stanton St   \n",
              "1726989  2023-01-01 07:12:59       Lincoln Pl & Nostrand Ave   \n",
              "1731836  2023-01-02 06:33:48            Vesey St & Church St   \n",
              "706989   2023-01-02 07:13:30            Hudson St & Reade St   \n",
              "282851   2023-01-02 16:39:45         Cabrini Blvd & W 177 St   \n",
              "...                      ...                             ...   \n",
              "5256465  2023-04-01 00:17:06          Norfolk St & Broome St   \n",
              "5256482  2023-04-01 00:16:57          Norfolk St & Broome St   \n",
              "4734215  2023-03-31 23:58:35       Kent St & McGuinness Blvd   \n",
              "4348934  2023-04-01 00:08:20         Waterbury St & Stagg St   \n",
              "5272196  2023-04-01 00:01:47  Metropolitan Ave & Bedford Ave   \n",
              "\n",
              "         start_station_id          end_station_name  end_station_id  \\\n",
              "509157                252            Lafayette Park             NaN   \n",
              "1726989               485      Pier 40 Dock Station             NaN   \n",
              "1731836              1972      Pier 40 Dock Station             NaN   \n",
              "706989                709      Pier 40 Dock Station             NaN   \n",
              "282851               2827     Bloomfield St & 15 St             NaN   \n",
              "...                   ...                       ...             ...   \n",
              "5256465               926  N 5 St & Northside Piers             NaN   \n",
              "5256482               926  N 5 St & Northside Piers             NaN   \n",
              "4734215               127   N Henry St & Norman Ave             NaN   \n",
              "4348934                12      S 4 St & Roebling St             NaN   \n",
              "5272196              1332  N 5 St & Northside Piers             NaN   \n",
              "\n",
              "         start_lat  start_lng    end_lat    end_lng member_casual  \n",
              "509157   40.722055 -73.989111  40.713464 -74.062859        casual  \n",
              "1726989  40.670704 -73.950649  40.728660 -74.011980        member  \n",
              "1731836  40.712196 -74.010544  40.728660 -74.011980        casual  \n",
              "706989   40.716253 -74.009220  40.728660 -74.011980        casual  \n",
              "282851   40.848282 -73.941343  40.754530 -74.026580        casual  \n",
              "...            ...        ...        ...        ...           ...  \n",
              "5256465  40.717227 -73.988021  40.720000 -73.960000        casual  \n",
              "5256482  40.717227 -73.988021  40.720000 -73.960000        member  \n",
              "4734215  40.731264 -73.951538  40.730000 -73.940000        member  \n",
              "4348934  40.710190 -73.937340  40.710000 -73.960000        casual  \n",
              "5272196  40.715348 -73.960241  40.720000 -73.960000        member  \n",
              "\n",
              "[6070 rows x 13 columns]"
            ]
          },
          "execution_count": 12,
          "metadata": {},
          "output_type": "execute_result"
        }
      ],
      "source": [
        "data[data.isna().any(axis=1)]"
      ]
    },
    {
      "cell_type": "code",
      "execution_count": 13,
      "metadata": {},
      "outputs": [],
      "source": [
        "data = data.dropna()"
      ]
    },
    {
      "cell_type": "code",
      "execution_count": 14,
      "metadata": {},
      "outputs": [
        {
          "data": {
            "text/html": [
              "<div>\n",
              "<style scoped>\n",
              "    .dataframe tbody tr th:only-of-type {\n",
              "        vertical-align: middle;\n",
              "    }\n",
              "\n",
              "    .dataframe tbody tr th {\n",
              "        vertical-align: top;\n",
              "    }\n",
              "\n",
              "    .dataframe thead th {\n",
              "        text-align: right;\n",
              "    }\n",
              "</style>\n",
              "<table border=\"1\" class=\"dataframe\">\n",
              "  <thead>\n",
              "    <tr style=\"text-align: right;\">\n",
              "      <th></th>\n",
              "      <th>ride_id</th>\n",
              "      <th>rideable_type</th>\n",
              "      <th>started_at</th>\n",
              "      <th>ended_at</th>\n",
              "      <th>start_station_name</th>\n",
              "      <th>start_station_id</th>\n",
              "      <th>end_station_name</th>\n",
              "      <th>end_station_id</th>\n",
              "      <th>start_lat</th>\n",
              "      <th>start_lng</th>\n",
              "      <th>end_lat</th>\n",
              "      <th>end_lng</th>\n",
              "      <th>member_casual</th>\n",
              "    </tr>\n",
              "  </thead>\n",
              "  <tbody>\n",
              "  </tbody>\n",
              "</table>\n",
              "</div>"
            ],
            "text/plain": [
              "Empty DataFrame\n",
              "Columns: [ride_id, rideable_type, started_at, ended_at, start_station_name, start_station_id, end_station_name, end_station_id, start_lat, start_lng, end_lat, end_lng, member_casual]\n",
              "Index: []"
            ]
          },
          "execution_count": 14,
          "metadata": {},
          "output_type": "execute_result"
        }
      ],
      "source": [
        "data[data.isna().any(axis=1)]"
      ]
    },
    {
      "cell_type": "code",
      "execution_count": 15,
      "metadata": {
        "colab": {
          "base_uri": "https://localhost:8080/",
          "height": 444
        },
        "id": "GlORY3-Zkyo1",
        "outputId": "ad152582-23b0-4f9c-813d-ef6726171710"
      },
      "outputs": [
        {
          "data": {
            "text/html": [
              "<div>\n",
              "<style scoped>\n",
              "    .dataframe tbody tr th:only-of-type {\n",
              "        vertical-align: middle;\n",
              "    }\n",
              "\n",
              "    .dataframe tbody tr th {\n",
              "        vertical-align: top;\n",
              "    }\n",
              "\n",
              "    .dataframe thead th {\n",
              "        text-align: right;\n",
              "    }\n",
              "</style>\n",
              "<table border=\"1\" class=\"dataframe\">\n",
              "  <thead>\n",
              "    <tr style=\"text-align: right;\">\n",
              "      <th></th>\n",
              "      <th>ride_id</th>\n",
              "      <th>rideable_type</th>\n",
              "      <th>started_at</th>\n",
              "      <th>ended_at</th>\n",
              "      <th>start_station_name</th>\n",
              "      <th>start_station_id</th>\n",
              "      <th>end_station_name</th>\n",
              "      <th>end_station_id</th>\n",
              "      <th>start_lat</th>\n",
              "      <th>start_lng</th>\n",
              "      <th>end_lat</th>\n",
              "      <th>end_lng</th>\n",
              "      <th>member_casual</th>\n",
              "      <th>trip_duration</th>\n",
              "    </tr>\n",
              "  </thead>\n",
              "  <tbody>\n",
              "    <tr>\n",
              "      <th>879593</th>\n",
              "      <td>4612E3DBB1F3088D</td>\n",
              "      <td>classic_bike</td>\n",
              "      <td>2023-01-01 00:00:13</td>\n",
              "      <td>2023-01-01 00:19:55</td>\n",
              "      <td>W 56 St &amp; 10 Ave</td>\n",
              "      <td>0</td>\n",
              "      <td>Harrison St &amp; Hudson St</td>\n",
              "      <td>704.0</td>\n",
              "      <td>40.768355</td>\n",
              "      <td>-73.988888</td>\n",
              "      <td>40.718710</td>\n",
              "      <td>-74.009001</td>\n",
              "      <td>member</td>\n",
              "      <td>1182.0</td>\n",
              "    </tr>\n",
              "    <tr>\n",
              "      <th>319265</th>\n",
              "      <td>4C882B46547FA011</td>\n",
              "      <td>classic_bike</td>\n",
              "      <td>2023-01-01 00:00:15</td>\n",
              "      <td>2023-01-01 00:35:07</td>\n",
              "      <td>W 106 St &amp; Amsterdam Ave</td>\n",
              "      <td>1</td>\n",
              "      <td>W 106 St &amp; Amsterdam Ave</td>\n",
              "      <td>1.0</td>\n",
              "      <td>40.800795</td>\n",
              "      <td>-73.966422</td>\n",
              "      <td>40.800836</td>\n",
              "      <td>-73.966449</td>\n",
              "      <td>member</td>\n",
              "      <td>2092.0</td>\n",
              "    </tr>\n",
              "    <tr>\n",
              "      <th>700568</th>\n",
              "      <td>63AF84DBE457A618</td>\n",
              "      <td>classic_bike</td>\n",
              "      <td>2023-01-01 00:00:21</td>\n",
              "      <td>2023-01-01 00:01:14</td>\n",
              "      <td>Grand St &amp; Havemeyer St</td>\n",
              "      <td>2</td>\n",
              "      <td>Grand St &amp; Havemeyer St</td>\n",
              "      <td>2.0</td>\n",
              "      <td>40.712868</td>\n",
              "      <td>-73.956981</td>\n",
              "      <td>40.712868</td>\n",
              "      <td>-73.956981</td>\n",
              "      <td>casual</td>\n",
              "      <td>53.0</td>\n",
              "    </tr>\n",
              "    <tr>\n",
              "      <th>1263783</th>\n",
              "      <td>2054AE257784A52C</td>\n",
              "      <td>classic_bike</td>\n",
              "      <td>2023-01-01 00:00:27</td>\n",
              "      <td>2023-01-01 00:06:50</td>\n",
              "      <td>President St &amp; Henry St</td>\n",
              "      <td>3</td>\n",
              "      <td>Clinton St &amp; 4 Place</td>\n",
              "      <td>2484.0</td>\n",
              "      <td>40.682745</td>\n",
              "      <td>-73.999806</td>\n",
              "      <td>40.678356</td>\n",
              "      <td>-74.000145</td>\n",
              "      <td>member</td>\n",
              "      <td>383.0</td>\n",
              "    </tr>\n",
              "    <tr>\n",
              "      <th>131250</th>\n",
              "      <td>D853DABC874C9655</td>\n",
              "      <td>classic_bike</td>\n",
              "      <td>2023-01-01 00:00:29</td>\n",
              "      <td>2023-01-01 00:02:37</td>\n",
              "      <td>Nagle Ave &amp; Ellwood St</td>\n",
              "      <td>4</td>\n",
              "      <td>Nagle Ave &amp; Ellwood St</td>\n",
              "      <td>3141.0</td>\n",
              "      <td>40.860120</td>\n",
              "      <td>-73.928489</td>\n",
              "      <td>40.860120</td>\n",
              "      <td>-73.928489</td>\n",
              "      <td>member</td>\n",
              "      <td>128.0</td>\n",
              "    </tr>\n",
              "  </tbody>\n",
              "</table>\n",
              "</div>"
            ],
            "text/plain": [
              "                  ride_id rideable_type          started_at  \\\n",
              "879593   4612E3DBB1F3088D  classic_bike 2023-01-01 00:00:13   \n",
              "319265   4C882B46547FA011  classic_bike 2023-01-01 00:00:15   \n",
              "700568   63AF84DBE457A618  classic_bike 2023-01-01 00:00:21   \n",
              "1263783  2054AE257784A52C  classic_bike 2023-01-01 00:00:27   \n",
              "131250   D853DABC874C9655  classic_bike 2023-01-01 00:00:29   \n",
              "\n",
              "                   ended_at        start_station_name  start_station_id  \\\n",
              "879593  2023-01-01 00:19:55          W 56 St & 10 Ave                 0   \n",
              "319265  2023-01-01 00:35:07  W 106 St & Amsterdam Ave                 1   \n",
              "700568  2023-01-01 00:01:14   Grand St & Havemeyer St                 2   \n",
              "1263783 2023-01-01 00:06:50   President St & Henry St                 3   \n",
              "131250  2023-01-01 00:02:37    Nagle Ave & Ellwood St                 4   \n",
              "\n",
              "                 end_station_name  end_station_id  start_lat  start_lng  \\\n",
              "879593    Harrison St & Hudson St           704.0  40.768355 -73.988888   \n",
              "319265   W 106 St & Amsterdam Ave             1.0  40.800795 -73.966422   \n",
              "700568    Grand St & Havemeyer St             2.0  40.712868 -73.956981   \n",
              "1263783      Clinton St & 4 Place          2484.0  40.682745 -73.999806   \n",
              "131250     Nagle Ave & Ellwood St          3141.0  40.860120 -73.928489   \n",
              "\n",
              "           end_lat    end_lng member_casual  trip_duration  \n",
              "879593   40.718710 -74.009001        member         1182.0  \n",
              "319265   40.800836 -73.966449        member         2092.0  \n",
              "700568   40.712868 -73.956981        casual           53.0  \n",
              "1263783  40.678356 -74.000145        member          383.0  \n",
              "131250   40.860120 -73.928489        member          128.0  "
            ]
          },
          "execution_count": 15,
          "metadata": {},
          "output_type": "execute_result"
        }
      ],
      "source": [
        "# convert strings into date objects\n",
        "data[\"started_at\"] = pd.to_datetime(data[\"started_at\"], format=\"%Y-%m-%d %H:%M:%S\")\n",
        "data[\"ended_at\"] = pd.to_datetime(data[\"ended_at\"], format=\"%Y-%m-%d %H:%M:%S\")\n",
        "\n",
        "# calculate strip duration in seconds\n",
        "data['trip_duration'] = (data['ended_at'] - data['started_at']).dt.total_seconds()\n",
        "\n",
        "data.head()"
      ]
    },
    {
      "cell_type": "markdown",
      "metadata": {
        "id": "WS4IbqxQ-y3m"
      },
      "source": [
        "### Nodes\n"
      ]
    },
    {
      "cell_type": "code",
      "execution_count": 16,
      "metadata": {
        "id": "usH9iZ0LTGCs"
      },
      "outputs": [],
      "source": [
        "outgoing_trips = data.groupby(\"start_station_id\").count()\n",
        "incoming_trips = data.groupby(\"end_station_id\").count()"
      ]
    },
    {
      "cell_type": "code",
      "execution_count": 17,
      "metadata": {
        "colab": {
          "base_uri": "https://localhost:8080/"
        },
        "id": "zRdQNH3sTGur",
        "outputId": "6a856247-bb12-400f-9cb8-d6047cbab1aa"
      },
      "outputs": [
        {
          "name": "stdout",
          "output_type": "stream",
          "text": [
            "Float64Index([  0.0,   1.0,   2.0,   3.0,   4.0,   5.0,   7.0,   8.0,   9.0,\n",
            "               10.0,  11.0,  13.0,  15.0,  16.0,  17.0,  18.0,  19.0,  20.0,\n",
            "               21.0,  22.0,  23.0,  24.0,  26.0,  27.0,  28.0,  29.0,  30.0,\n",
            "               31.0,  32.0,  33.0,  34.0,  35.0,  36.0,  37.0,  38.0,  39.0,\n",
            "               41.0,  42.0,  43.0,  44.0,  45.0,  46.0,  47.0,  48.0,  50.0,\n",
            "               51.0,  52.0,  53.0,  54.0,  55.0,  56.0,  57.0,  58.0,  59.0,\n",
            "               60.0,  61.0,  64.0,  65.0,  66.0,  67.0,  68.0,  69.0,  70.0,\n",
            "               71.0,  72.0,  73.0,  74.0,  75.0,  76.0,  77.0,  78.0,  79.0,\n",
            "               80.0,  81.0,  82.0,  83.0,  84.0,  85.0,  86.0,  87.0,  88.0,\n",
            "               89.0,  90.0,  91.0,  92.0,  93.0,  94.0,  95.0,  96.0,  97.0,\n",
            "               99.0, 100.0, 101.0, 103.0, 104.0, 105.0, 106.0, 107.0, 108.0,\n",
            "              109.0],\n",
            "             dtype='float64', name='end_station_id')\n"
          ]
        }
      ],
      "source": [
        "print(incoming_trips.index[0:100])"
      ]
    },
    {
      "cell_type": "code",
      "execution_count": 18,
      "metadata": {
        "id": "7HyKYyDGSUYo"
      },
      "outputs": [
        {
          "name": "stdout",
          "output_type": "stream",
          "text": [
            "                  ride_id  rideable_type  started_at  ended_at  \\\n",
            "start_station_id                                                 \n",
            "0                    6429           6429        6429      6429   \n",
            "1                    1045           1045        1045      1045   \n",
            "2                     901            901         901       901   \n",
            "3                     469            469         469       469   \n",
            "4                     638            638         638       638   \n",
            "...                   ...            ...         ...       ...   \n",
            "3595                  161            161         161       161   \n",
            "3596                   23             23          23        23   \n",
            "3597                   15             15          15        15   \n",
            "3598                   11             11          11        11   \n",
            "3599                   22             22          22        22   \n",
            "\n",
            "                  start_station_name  end_station_name  end_station_id  \\\n",
            "start_station_id                                                         \n",
            "0                               6429              6429            6429   \n",
            "1                               1045              1045            1045   \n",
            "2                                901               901             901   \n",
            "3                                469               469             469   \n",
            "4                                638               638             638   \n",
            "...                              ...               ...             ...   \n",
            "3595                             161               161             161   \n",
            "3596                              23                23              23   \n",
            "3597                              15                15              15   \n",
            "3598                              11                11              11   \n",
            "3599                              22                22              22   \n",
            "\n",
            "                  start_lat  start_lng  end_lat  end_lng  member_casual  \\\n",
            "start_station_id                                                          \n",
            "0                      6429       6429     6429     6429           6429   \n",
            "1                      1045       1045     1045     1045           1045   \n",
            "2                       901        901      901      901            901   \n",
            "3                       469        469      469      469            469   \n",
            "4                       638        638      638      638            638   \n",
            "...                     ...        ...      ...      ...            ...   \n",
            "3595                    161        161      161      161            161   \n",
            "3596                     23         23       23       23             23   \n",
            "3597                     15         15       15       15             15   \n",
            "3598                     11         11       11       11             11   \n",
            "3599                     22         22       22       22             22   \n",
            "\n",
            "                  trip_duration  \n",
            "start_station_id                 \n",
            "0                          6429  \n",
            "1                          1045  \n",
            "2                           901  \n",
            "3                           469  \n",
            "4                           638  \n",
            "...                         ...  \n",
            "3595                        161  \n",
            "3596                         23  \n",
            "3597                         15  \n",
            "3598                         11  \n",
            "3599                         22  \n",
            "\n",
            "[3600 rows x 13 columns]\n"
          ]
        }
      ],
      "source": [
        "print(data.groupby(\"start_station_id\").count())"
      ]
    },
    {
      "cell_type": "code",
      "execution_count": 19,
      "metadata": {
        "colab": {
          "base_uri": "https://localhost:8080/"
        },
        "id": "9znvbrflq0Cy",
        "outputId": "30c96323-9ec4-4f6d-ff89-4323de747fef"
      },
      "outputs": [
        {
          "name": "stdout",
          "output_type": "stream",
          "text": [
            "Full shape:  (3600, 2)\n"
          ]
        },
        {
          "data": {
            "text/plain": [
              "array([[0.29320805, 0.05852484],\n",
              "       [0.04762122, 0.13762236],\n",
              "       [0.04105278, 0.23593153],\n",
              "       [0.02134744, 0.10521908],\n",
              "       [0.02905624, 0.00266974]])"
            ]
          },
          "execution_count": 19,
          "metadata": {},
          "output_type": "execute_result"
        }
      ],
      "source": [
        "import numpy as np\n",
        "# Find out how many outgoing bikers we have\n",
        "outgoing_trips = data.groupby(\"start_station_id\").count()\n",
        "incoming_trips = data.groupby(\"end_station_id\").count()\n",
        "\n",
        "# Match the list sizes\n",
        "actual_incoming_trips = []\n",
        "for idx in outgoing_trips.index:\n",
        "  if idx not in incoming_trips.index:\n",
        "    actual_incoming_trips.append(0)\n",
        "  else:\n",
        "    actual_incoming_trips.append(incoming_trips.loc[[idx]]['ride_id'].values[0])\n",
        "\n",
        "actual_incoming_trips = np.asarray(actual_incoming_trips)\n",
        "incoming_trips = actual_incoming_trips\n",
        "outgoing_trips = outgoing_trips['ride_id'].values\n",
        "\n",
        "# Normalize features between 0 and 1\n",
        "outgoing_trips = (outgoing_trips - np.min(outgoing_trips)) / (np.max(outgoing_trips) - np.min(outgoing_trips))\n",
        "incoming_trips = (incoming_trips - np.min(incoming_trips)) / (np.max(incoming_trips) - np.min(incoming_trips))\n",
        "\n",
        "node_features = np.stack([outgoing_trips, incoming_trips]).transpose()\n",
        "print(\"Full shape: \", node_features.shape)\n",
        "node_features[0:5]"
      ]
    },
    {
      "cell_type": "markdown",
      "metadata": {
        "id": "c460PrN--1Qd"
      },
      "source": [
        "### Edges\n"
      ]
    },
    {
      "cell_type": "code",
      "execution_count": 20,
      "metadata": {
        "colab": {
          "base_uri": "https://localhost:8080/",
          "height": 424
        },
        "id": "gRjcdvtzcusn",
        "outputId": "5114a355-3f9d-4915-d132-62d777a99800"
      },
      "outputs": [],
      "source": [
        "cols = [\"start_lng\", \"start_lat\", \"end_lng\", \"end_lat\", \"start_station_id\", \"end_station_id\"]\n",
        "station_pairs = data.drop_duplicates(subset=[\"start_station_id\", \"end_station_id\" ], keep=\"first\")[cols]\n",
        "station_pairs[\"distance\"] = station_pairs.apply(lambda x: geodesic((x[\"start_lat\"], x[\"start_lng\"]), (x[\"end_lat\"], x[\"end_lng\"])).meters, axis=1)\n",
        "station_pairs.to_csv(\"Data\\station_pairs2023-1-3only.csv\")\n",
        "#station_pairs = pd.read_csv(\"Data\\station_pairs2023-1-3only.csv\")\n"
      ]
    },
    {
      "cell_type": "code",
      "execution_count": 21,
      "metadata": {
        "colab": {
          "base_uri": "https://localhost:8080/",
          "height": 424
        },
        "id": "YuQeebLkXrbX",
        "outputId": "7c6ab3dc-c740-4cef-ce15-cff67a26fdb3"
      },
      "outputs": [
        {
          "data": {
            "text/html": [
              "<div>\n",
              "<style scoped>\n",
              "    .dataframe tbody tr th:only-of-type {\n",
              "        vertical-align: middle;\n",
              "    }\n",
              "\n",
              "    .dataframe tbody tr th {\n",
              "        vertical-align: top;\n",
              "    }\n",
              "\n",
              "    .dataframe thead th {\n",
              "        text-align: right;\n",
              "    }\n",
              "</style>\n",
              "<table border=\"1\" class=\"dataframe\">\n",
              "  <thead>\n",
              "    <tr style=\"text-align: right;\">\n",
              "      <th></th>\n",
              "      <th>start_lng</th>\n",
              "      <th>start_lat</th>\n",
              "      <th>end_lng</th>\n",
              "      <th>end_lat</th>\n",
              "      <th>start_station_id</th>\n",
              "      <th>end_station_id</th>\n",
              "      <th>distance</th>\n",
              "      <th>edge</th>\n",
              "    </tr>\n",
              "  </thead>\n",
              "  <tbody>\n",
              "    <tr>\n",
              "      <th>879593</th>\n",
              "      <td>-73.988888</td>\n",
              "      <td>40.768355</td>\n",
              "      <td>-74.009001</td>\n",
              "      <td>40.718710</td>\n",
              "      <td>0</td>\n",
              "      <td>704.0</td>\n",
              "      <td>5768.818851</td>\n",
              "      <td>False</td>\n",
              "    </tr>\n",
              "    <tr>\n",
              "      <th>319265</th>\n",
              "      <td>-73.966422</td>\n",
              "      <td>40.800795</td>\n",
              "      <td>-73.966449</td>\n",
              "      <td>40.800836</td>\n",
              "      <td>1</td>\n",
              "      <td>1.0</td>\n",
              "      <td>5.145050</td>\n",
              "      <td>True</td>\n",
              "    </tr>\n",
              "    <tr>\n",
              "      <th>700568</th>\n",
              "      <td>-73.956981</td>\n",
              "      <td>40.712868</td>\n",
              "      <td>-73.956981</td>\n",
              "      <td>40.712868</td>\n",
              "      <td>2</td>\n",
              "      <td>2.0</td>\n",
              "      <td>0.000000</td>\n",
              "      <td>True</td>\n",
              "    </tr>\n",
              "    <tr>\n",
              "      <th>1263783</th>\n",
              "      <td>-73.999806</td>\n",
              "      <td>40.682745</td>\n",
              "      <td>-74.000145</td>\n",
              "      <td>40.678356</td>\n",
              "      <td>3</td>\n",
              "      <td>2484.0</td>\n",
              "      <td>488.140135</td>\n",
              "      <td>False</td>\n",
              "    </tr>\n",
              "    <tr>\n",
              "      <th>131250</th>\n",
              "      <td>-73.928489</td>\n",
              "      <td>40.860120</td>\n",
              "      <td>-73.928489</td>\n",
              "      <td>40.860120</td>\n",
              "      <td>4</td>\n",
              "      <td>3141.0</td>\n",
              "      <td>0.000000</td>\n",
              "      <td>True</td>\n",
              "    </tr>\n",
              "    <tr>\n",
              "      <th>...</th>\n",
              "      <td>...</td>\n",
              "      <td>...</td>\n",
              "      <td>...</td>\n",
              "      <td>...</td>\n",
              "      <td>...</td>\n",
              "      <td>...</td>\n",
              "      <td>...</td>\n",
              "      <td>...</td>\n",
              "    </tr>\n",
              "    <tr>\n",
              "      <th>3744559</th>\n",
              "      <td>-73.953990</td>\n",
              "      <td>40.682166</td>\n",
              "      <td>-73.907420</td>\n",
              "      <td>40.700680</td>\n",
              "      <td>813</td>\n",
              "      <td>1336.0</td>\n",
              "      <td>4440.992549</td>\n",
              "      <td>False</td>\n",
              "    </tr>\n",
              "    <tr>\n",
              "      <th>4762928</th>\n",
              "      <td>-73.930331</td>\n",
              "      <td>40.701137</td>\n",
              "      <td>-73.915720</td>\n",
              "      <td>40.713340</td>\n",
              "      <td>125</td>\n",
              "      <td>3422.0</td>\n",
              "      <td>1833.284192</td>\n",
              "      <td>False</td>\n",
              "    </tr>\n",
              "    <tr>\n",
              "      <th>3870499</th>\n",
              "      <td>-73.991026</td>\n",
              "      <td>40.730207</td>\n",
              "      <td>-73.965903</td>\n",
              "      <td>40.712859</td>\n",
              "      <td>995</td>\n",
              "      <td>308.0</td>\n",
              "      <td>2866.482711</td>\n",
              "      <td>False</td>\n",
              "    </tr>\n",
              "    <tr>\n",
              "      <th>5112800</th>\n",
              "      <td>-73.994822</td>\n",
              "      <td>40.750489</td>\n",
              "      <td>-73.956156</td>\n",
              "      <td>40.819034</td>\n",
              "      <td>927</td>\n",
              "      <td>384.0</td>\n",
              "      <td>8282.105109</td>\n",
              "      <td>False</td>\n",
              "    </tr>\n",
              "    <tr>\n",
              "      <th>5150712</th>\n",
              "      <td>-73.957477</td>\n",
              "      <td>40.785943</td>\n",
              "      <td>-73.945133</td>\n",
              "      <td>40.757420</td>\n",
              "      <td>2188</td>\n",
              "      <td>1984.0</td>\n",
              "      <td>3334.524570</td>\n",
              "      <td>False</td>\n",
              "    </tr>\n",
              "  </tbody>\n",
              "</table>\n",
              "<p>852206 rows × 8 columns</p>\n",
              "</div>"
            ],
            "text/plain": [
              "         start_lng  start_lat    end_lng    end_lat  start_station_id  \\\n",
              "879593  -73.988888  40.768355 -74.009001  40.718710                 0   \n",
              "319265  -73.966422  40.800795 -73.966449  40.800836                 1   \n",
              "700568  -73.956981  40.712868 -73.956981  40.712868                 2   \n",
              "1263783 -73.999806  40.682745 -74.000145  40.678356                 3   \n",
              "131250  -73.928489  40.860120 -73.928489  40.860120                 4   \n",
              "...            ...        ...        ...        ...               ...   \n",
              "3744559 -73.953990  40.682166 -73.907420  40.700680               813   \n",
              "4762928 -73.930331  40.701137 -73.915720  40.713340               125   \n",
              "3870499 -73.991026  40.730207 -73.965903  40.712859               995   \n",
              "5112800 -73.994822  40.750489 -73.956156  40.819034               927   \n",
              "5150712 -73.957477  40.785943 -73.945133  40.757420              2188   \n",
              "\n",
              "         end_station_id     distance   edge  \n",
              "879593            704.0  5768.818851  False  \n",
              "319265              1.0     5.145050   True  \n",
              "700568              2.0     0.000000   True  \n",
              "1263783          2484.0   488.140135  False  \n",
              "131250           3141.0     0.000000   True  \n",
              "...                 ...          ...    ...  \n",
              "3744559          1336.0  4440.992549  False  \n",
              "4762928          3422.0  1833.284192  False  \n",
              "3870499           308.0  2866.482711  False  \n",
              "5112800           384.0  8282.105109  False  \n",
              "5150712          1984.0  3334.524570  False  \n",
              "\n",
              "[852206 rows x 8 columns]"
            ]
          },
          "execution_count": 21,
          "metadata": {},
          "output_type": "execute_result"
        }
      ],
      "source": [
        "station_pairs[\"edge\"] = station_pairs[\"distance\"] < 150 # we will only consider edges less than 300 meters to limit the complexity of the model\n",
        "station_pairs"
      ]
    },
    {
      "cell_type": "code",
      "execution_count": 22,
      "metadata": {
        "colab": {
          "base_uri": "https://localhost:8080/"
        },
        "id": "II9j2sQ0X12G",
        "outputId": "2555a3f7-295e-41e3-dcc5-602e9af89972"
      },
      "outputs": [
        {
          "name": "stdout",
          "output_type": "stream",
          "text": [
            "9284\n"
          ]
        },
        {
          "data": {
            "text/plain": [
              "array([[1.000e+00, 2.000e+00, 4.000e+00, ..., 3.597e+03, 3.594e+03,\n",
              "        3.594e+03],\n",
              "       [1.000e+00, 2.000e+00, 3.141e+03, ..., 3.597e+03, 3.594e+03,\n",
              "        3.591e+03]])"
            ]
          },
          "execution_count": 22,
          "metadata": {},
          "output_type": "execute_result"
        }
      ],
      "source": [
        "edge_index = station_pairs[station_pairs[\"edge\"] == True][[\"start_station_id\", \"end_station_id\"]].values\n",
        "edge_index = edge_index.transpose()\n",
        "print(edge_index.size)\n",
        "edge_index"
      ]
    },
    {
      "cell_type": "code",
      "execution_count": 23,
      "metadata": {},
      "outputs": [
        {
          "name": "stdout",
          "output_type": "stream",
          "text": [
            "(2, 4642)\n",
            "0.0\n",
            "3597.0\n"
          ]
        }
      ],
      "source": [
        "print(np.shape(edge_index))\n",
        "print(np.min(edge_index))\n",
        "print(np.max(edge_index))"
      ]
    },
    {
      "cell_type": "code",
      "execution_count": null,
      "metadata": {},
      "outputs": [],
      "source": []
    },
    {
      "cell_type": "code",
      "execution_count": 24,
      "metadata": {},
      "outputs": [
        {
          "data": {
            "text/plain": [
              "0"
            ]
          },
          "execution_count": 24,
          "metadata": {},
          "output_type": "execute_result"
        }
      ],
      "source": [
        "len(edge_index.T[np.isnan(edge_index.T).any(axis=1)])"
      ]
    },
    {
      "cell_type": "code",
      "execution_count": 25,
      "metadata": {
        "colab": {
          "base_uri": "https://localhost:8080/"
        },
        "id": "31X7Z5bJYD-i",
        "outputId": "354dd1d0-e8b8-40cb-eaf3-850406d5348e"
      },
      "outputs": [],
      "source": [
        "edge_features = station_pairs[station_pairs[\"edge\"] == True][\"distance\"].values\n",
        "#edge_features"
      ]
    },
    {
      "cell_type": "code",
      "execution_count": 26,
      "metadata": {
        "colab": {
          "base_uri": "https://localhost:8080/"
        },
        "id": "CaRges7pYLKQ",
        "outputId": "edbc1ff3-3f91-4f2b-fd5f-856271229548"
      },
      "outputs": [],
      "source": [
        "from pandas._libs.tslibs.offsets import YearOffset\n",
        "start_date = data.iloc[0]['started_at']\n",
        "end_date = data.iloc[-1]['started_at']\n",
        "interval = timedelta(hours=3)\n",
        "\n",
        "\n",
        "labels = []\n",
        "\n",
        "#stop = start_date + timedelta(hours=24)\n",
        "#while start_date <= stop:\n",
        "while start_date <= end_date:\n",
        "    \n",
        "    current_snapshot = data[((start_date + interval) >= data[\"ended_at\"]) & (start_date <= data[\"ended_at\"])]\n",
        "    \n",
        "    # Compute average duration of trips along the same edge\n",
        "    current_snapshot = current_snapshot.groupby([\"start_station_id\", \"end_station_id\"]).mean().reset_index()\n",
        "    \n",
        "    # Labels as the number of outgoing trips from each station within this hour\n",
        "    start_stations = np.zeros_like(data[\"start_station_id\"].unique())\n",
        "\n",
        "    y = current_snapshot.groupby(\"start_station_id\").count()['start_lat'].values\n",
        "    y_index = np.unique(current_snapshot[[\"start_station_id\"]].values.transpose())\n",
        "\n",
        "    \n",
        "    start_stations[y_index] = y\n",
        "    labels.append(start_stations)\n",
        "\n",
        "    start_date += interval\n"
      ]
    },
    {
      "cell_type": "code",
      "execution_count": 27,
      "metadata": {
        "colab": {
          "base_uri": "https://localhost:8080/"
        },
        "id": "ujTzYCE5kaq7",
        "outputId": "71576410-6036-4ee9-cb9c-b07c3f6acdc5"
      },
      "outputs": [
        {
          "name": "stdout",
          "output_type": "stream",
          "text": [
            "720\n",
            "Example of graph snapshot 9: \n",
            "\n",
            "      Node feature shape: (3600, 2) \n",
            "\n",
            "      Edge index shape: (2, 4642) \n",
            "\n",
            "      Edge feature shape: (4642,) \n",
            " \n",
            "      Labels shape: (3600,) \n",
            "\n",
            "      \n"
          ]
        }
      ],
      "source": [
        "print(len(labels))\n",
        "i = 9\n",
        "print(f\"\"\"Example of graph snapshot {i}: \\n\n",
        "      Node feature shape: {node_features.shape} \\n\n",
        "      Edge index shape: {edge_index.shape} \\n\n",
        "      Edge feature shape: {edge_features.shape} \\n \n",
        "      Labels shape: {labels[i].shape} \\n\n",
        "      \"\"\")"
      ]
    },
    {
      "cell_type": "code",
      "execution_count": 28,
      "metadata": {
        "colab": {
          "base_uri": "https://localhost:8080/"
        },
        "id": "GfSKHg9dL7oU",
        "outputId": "fcfc90c7-50cf-4851-9332-748c5318d8f7"
      },
      "outputs": [
        {
          "data": {
            "text/plain": [
              "array([0, 0, 1, 0, 0, 0, 1, 0, 1, 0, 1, 0, 0, 0, 0, 2, 0, 0, 0, 0, 0, 2,\n",
              "       0, 0, 0, 0, 2, 0, 2, 0, 0, 0, 0, 1, 0, 0, 1, 0, 1, 0, 0, 1, 0, 0,\n",
              "       0, 0, 0, 0, 0, 0, 2, 1, 0, 0, 1, 0, 0, 2, 0, 0, 0, 0, 0, 0, 0, 0,\n",
              "       0, 0, 0, 1, 0, 0, 1, 0, 0, 1, 0, 0, 0, 0, 1, 0, 0, 1, 0, 0, 0, 0,\n",
              "       0, 0, 1, 0, 1, 0, 1, 0, 1, 1, 0, 0], dtype=int64)"
            ]
          },
          "execution_count": 28,
          "metadata": {},
          "output_type": "execute_result"
        }
      ],
      "source": [
        "labels[9][100:200]"
      ]
    },
    {
      "attachments": {},
      "cell_type": "markdown",
      "metadata": {},
      "source": [
        "### Sliding Window to Map Labels (Features) to Labels (Targets)"
      ]
    },
    {
      "cell_type": "code",
      "execution_count": 29,
      "metadata": {},
      "outputs": [],
      "source": [
        "outgoing = np.array(labels)"
      ]
    },
    {
      "attachments": {},
      "cell_type": "markdown",
      "metadata": {},
      "source": [
        "outgoing[i][j] is an array that contains the number of outgoing trips from the jth station in the ith timestep"
      ]
    },
    {
      "attachments": {},
      "cell_type": "markdown",
      "metadata": {},
      "source": [
        "outgoing is our feature and our target, if we use 5 timesteps to predict the next 5 steps, then \n",
        "outgoing[i-5:i][:] would be our x, and outgoing[i:i + 5][:] would be our y.\n",
        "We use a sliding window to construct our x and y from outgoing\n"
      ]
    },
    {
      "cell_type": "code",
      "execution_count": 30,
      "metadata": {},
      "outputs": [
        {
          "data": {
            "text/plain": [
              "(720, 3600)"
            ]
          },
          "execution_count": 30,
          "metadata": {},
          "output_type": "execute_result"
        }
      ],
      "source": [
        "np.shape(outgoing)"
      ]
    },
    {
      "cell_type": "code",
      "execution_count": 31,
      "metadata": {},
      "outputs": [
        {
          "data": {
            "text/plain": [
              "(720,)"
            ]
          },
          "execution_count": 31,
          "metadata": {},
          "output_type": "execute_result"
        }
      ],
      "source": [
        "np.shape(np.sum(outgoing, axis=1))"
      ]
    },
    {
      "cell_type": "code",
      "execution_count": 32,
      "metadata": {},
      "outputs": [
        {
          "data": {
            "text/plain": [
              "<AxesSubplot:xlabel='index', ylabel='trips_per_hour'>"
            ]
          },
          "execution_count": 32,
          "metadata": {},
          "output_type": "execute_result"
        },
        {
          "data": {
            "image/png": "[encoded data removed]",
            "text/plain": [
              "<Figure size 640x480 with 1 Axes>"
            ]
          },
          "metadata": {},
          "output_type": "display_data"
        }
      ],
      "source": [
        "import seaborn as sns\n",
        "sns.scatterplot(x=\"index\", y=\"trips_per_hour\", data=pd.DataFrame(np.sum(outgoing, axis = 1), columns=[\"trips_per_hour\"]).reset_index())"
      ]
    },
    {
      "cell_type": "code",
      "execution_count": 33,
      "metadata": {},
      "outputs": [
        {
          "data": {
            "text/plain": [
              "(array([182.,  70.,  71.,  58., 120., 100.,  59.,  33.,  18.,   9.]),\n",
              " array([  237.,  2188.,  4139.,  6090.,  8041.,  9992., 11943., 13894.,\n",
              "        15845., 17796., 19747.]),\n",
              " <BarContainer object of 10 artists>)"
            ]
          },
          "execution_count": 33,
          "metadata": {},
          "output_type": "execute_result"
        },
        {
          "data": {
            "image/png": "[encoded data removed]",
            "text/plain": [
              "<Figure size 640x480 with 1 Axes>"
            ]
          },
          "metadata": {},
          "output_type": "display_data"
        }
      ],
      "source": [
        "import matplotlib.pyplot as plt\n",
        "plt.hist(np.sum(outgoing, axis = 1))"
      ]
    },
    {
      "cell_type": "code",
      "execution_count": 34,
      "metadata": {},
      "outputs": [
        {
          "data": {
            "text/plain": [
              "(array([182.,  70.,  71.,  58., 120., 101.,  58.,  33.,  18.,   9.]),\n",
              " array([0.06583333, 0.60777778, 1.14972222, 1.69166667, 2.23361111,\n",
              "        2.77555556, 3.3175    , 3.85944444, 4.40138889, 4.94333333,\n",
              "        5.48527778]),\n",
              " <BarContainer object of 10 artists>)"
            ]
          },
          "execution_count": 34,
          "metadata": {},
          "output_type": "execute_result"
        },
        {
          "data": {
            "image/png": "[encoded data removed]",
            "text/plain": [
              "<Figure size 640x480 with 1 Axes>"
            ]
          },
          "metadata": {},
          "output_type": "display_data"
        }
      ],
      "source": [
        "plt.hist(np.average(outgoing, axis=1))"
      ]
    },
    {
      "cell_type": "code",
      "execution_count": null,
      "metadata": {},
      "outputs": [],
      "source": []
    },
    {
      "cell_type": "code",
      "execution_count": 35,
      "metadata": {},
      "outputs": [
        {
          "data": {
            "text/plain": [
              "3597.0"
            ]
          },
          "execution_count": 35,
          "metadata": {},
          "output_type": "execute_result"
        }
      ],
      "source": [
        "np.max(edge_index)"
      ]
    },
    {
      "cell_type": "code",
      "execution_count": 36,
      "metadata": {},
      "outputs": [
        {
          "name": "stdout",
          "output_type": "stream",
          "text": [
            "True\n",
            "[0 1 2 3]  :      [4 5]\n",
            "[6 7 8 9]  :      [10 11]\n",
            "[12 13 14 15]  :      [16 17]\n",
            "[18 19 20 21]  :      [22 23]\n"
          ]
        }
      ],
      "source": [
        "from typing import Tuple\n",
        "import math\n",
        "#need to create features np array and targets np array\n",
        "#using sliding window\n",
        "#parameters time_steps_in and time_steps_out\n",
        "#should use 24 hours for proof of concept\n",
        "def sliding_window(data: np.array, timestep_in: int, timestep_out: int, overlap = True) -> Tuple[np.array, np.array]:\n",
        "    if(overlap):\n",
        "        n = len(data)\n",
        "        if(timestep_in + timestep_out > len(data)):\n",
        "            print(\"Timestep sizes (\" + str(timestep_in) + \", \" + str(timestep_out) + \") are too large for data length: \" + str(n))\n",
        "        else:\n",
        "            x = np.array([data[i: i + timestep_in] for i in range(n - timestep_in - timestep_out + 1)])\n",
        "            y = np.array([data[i: i + timestep_out] for i in range(timestep_in, n - timestep_out + 1)])\n",
        "            return(x, y)\n",
        "    else:\n",
        "        n = len(data)\n",
        "        if(timestep_in + timestep_out > len(data)):\n",
        "            print(\"Timestep sizes (\" + str(timestep_in) + \", \" + str(timestep_out) + \") are too large for data length: \" + str(n))\n",
        "        else:\n",
        "            total = np.array([data[i: i + timestep_in + timestep_out] for i in range(0, n - timestep_in + 1, timestep_out + timestep_in)])\n",
        "            x = np.array([arr[0:timestep_in] for arr in total])\n",
        "            y = np.array([arr[timestep_in:] for arr in total])\n",
        "            return(x, y)\n",
        "\n",
        "x, y = sliding_window(np.arange(24), 4, 2, False)\n",
        "print(len(x) == len(y))\n",
        "for i in range(len(x)):\n",
        "    print(str(x[i]) + \"  :      \" + str(y[i]))"
      ]
    },
    {
      "cell_type": "code",
      "execution_count": 37,
      "metadata": {},
      "outputs": [
        {
          "name": "stdout",
          "output_type": "stream",
          "text": [
            "Shape of x: (55, 3600, 1, 12)\n",
            "Shape of y: (55, 3600, 1)\n"
          ]
        }
      ],
      "source": [
        "x, y = sliding_window(outgoing, 12, 1, False)\n",
        "#reshaping x and y for temporal graph neural network\n",
        "x = np.expand_dims(np.transpose(x, (0, 2, 1)), axis = 2)\n",
        "y = np.transpose(y, (0, 2, 1))\n",
        "print(\"Shape of x: \" + str(np.shape(x)))\n",
        "print(\"Shape of y: \" + str(np.shape(y)))"
      ]
    },
    {
      "attachments": {},
      "cell_type": "markdown",
      "metadata": {},
      "source": [
        "## Creating Basic Graph Neural Network"
      ]
    },
    {
      "attachments": {},
      "cell_type": "markdown",
      "metadata": {},
      "source": [
        "### Creating Graph Objects"
      ]
    },
    {
      "attachments": {},
      "cell_type": "markdown",
      "metadata": {},
      "source": [
        "#### Creating First Graph Object"
      ]
    },
    {
      "cell_type": "code",
      "execution_count": 38,
      "metadata": {},
      "outputs": [],
      "source": [
        "import torch\n",
        "import torch_geometric\n",
        "import torch_geometric_temporal\n",
        "from torch_geometric.data import Data\n",
        "from torch_geometric.loader import DataLoader\n",
        "from torch_geometric_temporal import StaticGraphTemporalSignal"
      ]
    },
    {
      "cell_type": "code",
      "execution_count": 39,
      "metadata": {},
      "outputs": [],
      "source": [
        "temporal_dataset = StaticGraphTemporalSignal(edge_index=edge_index, edge_weight=edge_features, features=x, targets=y)"
      ]
    },
    {
      "cell_type": "code",
      "execution_count": 40,
      "metadata": {},
      "outputs": [
        {
          "name": "stdout",
          "output_type": "stream",
          "text": [
            "Data(x=[3600, 1, 12], edge_index=[2, 4642], edge_attr=[4642], y=[3600, 1])\n"
          ]
        }
      ],
      "source": [
        "print(temporal_dataset[0])"
      ]
    },
    {
      "cell_type": "code",
      "execution_count": 41,
      "metadata": {},
      "outputs": [],
      "source": [
        "from torch_geometric_temporal.signal import temporal_signal_split\n",
        "train_dataset, test_dataset = temporal_signal_split(temporal_dataset, train_ratio=0.8)\n",
        "\n",
        "#print(\"Number of train buckets: \", len(set(train_dataset)))\n",
        "#print(\"Number of test buckets: \", len(set(test_dataset)))"
      ]
    },
    {
      "cell_type": "code",
      "execution_count": 42,
      "metadata": {},
      "outputs": [
        {
          "data": {
            "text/plain": [
              "torch_geometric_temporal.signal.static_graph_temporal_signal.StaticGraphTemporalSignal"
            ]
          },
          "execution_count": 42,
          "metadata": {},
          "output_type": "execute_result"
        }
      ],
      "source": [
        "type(train_dataset)"
      ]
    },
    {
      "cell_type": "code",
      "execution_count": 43,
      "metadata": {},
      "outputs": [
        {
          "data": {
            "text/plain": [
              "44"
            ]
          },
          "execution_count": 43,
          "metadata": {},
          "output_type": "execute_result"
        }
      ],
      "source": [
        "train_dataset.snapshot_count"
      ]
    },
    {
      "cell_type": "code",
      "execution_count": 44,
      "metadata": {},
      "outputs": [
        {
          "data": {
            "text/plain": [
              "Data(x=[3600, 1, 12], edge_index=[2, 4642], edge_attr=[4642], y=[3600, 1])"
            ]
          },
          "execution_count": 44,
          "metadata": {},
          "output_type": "execute_result"
        }
      ],
      "source": [
        "next(iter(train_dataset))"
      ]
    },
    {
      "cell_type": "code",
      "execution_count": 45,
      "metadata": {},
      "outputs": [
        {
          "data": {
            "text/plain": [
              "(55, 3600, 1, 12)"
            ]
          },
          "execution_count": 45,
          "metadata": {},
          "output_type": "execute_result"
        }
      ],
      "source": [
        "np.shape(x)"
      ]
    },
    {
      "cell_type": "code",
      "execution_count": 46,
      "metadata": {},
      "outputs": [
        {
          "data": {
            "text/plain": [
              "TemporalGNN(\n",
              "  (tgnn): A3TGCN(\n",
              "    (_base_tgcn): TGCN(\n",
              "      (conv_z): GCNConv(1, 32)\n",
              "      (linear_z): Linear(in_features=64, out_features=32, bias=True)\n",
              "      (conv_r): GCNConv(1, 32)\n",
              "      (linear_r): Linear(in_features=64, out_features=32, bias=True)\n",
              "      (conv_h): GCNConv(1, 32)\n",
              "      (linear_h): Linear(in_features=64, out_features=32, bias=True)\n",
              "    )\n",
              "  )\n",
              "  (linear): Linear(in_features=32, out_features=1, bias=True)\n",
              ")"
            ]
          },
          "execution_count": 46,
          "metadata": {},
          "output_type": "execute_result"
        }
      ],
      "source": [
        "import torch\n",
        "import torch.nn.functional as F\n",
        "from torch_geometric_temporal.nn.recurrent import A3TGCN\n",
        "\n",
        "class TemporalGNN(torch.nn.Module):\n",
        "    def __init__(self, node_features, periods_in, periods_out):\n",
        "        super(TemporalGNN, self).__init__()\n",
        "        # Attention Temporal Graph Convolutional Cell\n",
        "        self.tgnn = A3TGCN(in_channels=node_features, \n",
        "                           out_channels=32, \n",
        "                           periods=periods_in)\n",
        "        # Equals single-shot prediction\n",
        "        self.linear = torch.nn.Linear(32, periods_out)\n",
        "\n",
        "    def forward(self, x, edge_index):\n",
        "        \"\"\"\n",
        "        x = Node features for T time steps\n",
        "        edge_index = Graph edge indices\n",
        "        \"\"\"\n",
        "        h = self.tgnn(x, edge_index)\n",
        "        h = F.relu(h)\n",
        "        h = self.linear(h)\n",
        "        return h\n",
        "\n",
        "TemporalGNN(node_features=1, periods_in=12, periods_out = 1)"
      ]
    },
    {
      "cell_type": "code",
      "execution_count": 47,
      "metadata": {},
      "outputs": [
        {
          "name": "stdout",
          "output_type": "stream",
          "text": [
            "Running training...\n",
            "Epoch 0 train MSE: 19.2814\n",
            "Epoch 0 test MSE: 38.5096\n",
            "Epoch 1 train MSE: 18.3663\n",
            "Epoch 1 test MSE: 37.3636\n",
            "Epoch 2 train MSE: 17.7514\n",
            "Epoch 2 test MSE: 36.6429\n",
            "Epoch 3 train MSE: 17.1861\n",
            "Epoch 3 test MSE: 35.9845\n",
            "Epoch 4 train MSE: 16.6306\n",
            "Epoch 4 test MSE: 35.3346\n",
            "Epoch 5 train MSE: 16.1277\n",
            "Epoch 5 test MSE: 34.7778\n",
            "Epoch 6 train MSE: 15.6779\n",
            "Epoch 6 test MSE: 34.2948\n",
            "Epoch 7 train MSE: 15.2686\n",
            "Epoch 7 test MSE: 33.8527\n",
            "Epoch 8 train MSE: 14.8936\n",
            "Epoch 8 test MSE: 33.4409\n",
            "Epoch 9 train MSE: 14.5585\n",
            "Epoch 9 test MSE: 33.0773\n",
            "Epoch 10 train MSE: 14.2659\n",
            "Epoch 10 test MSE: 32.7615\n",
            "Epoch 11 train MSE: 14.0155\n",
            "Epoch 11 test MSE: 32.4887\n",
            "Epoch 12 train MSE: 13.8063\n",
            "Epoch 12 test MSE: 32.2563\n",
            "Epoch 13 train MSE: 13.6374\n",
            "Epoch 13 test MSE: 32.0626\n",
            "Epoch 14 train MSE: 13.5058\n",
            "Epoch 14 test MSE: 31.9046\n",
            "Epoch 15 train MSE: 13.4057\n",
            "Epoch 15 test MSE: 31.7772\n",
            "Epoch 16 train MSE: 13.3288\n",
            "Epoch 16 test MSE: 31.6729\n",
            "Epoch 17 train MSE: 13.2658\n",
            "Epoch 17 test MSE: 31.5836\n",
            "Epoch 18 train MSE: 13.2084\n",
            "Epoch 18 test MSE: 31.5018\n",
            "Epoch 19 train MSE: 13.1501\n",
            "Epoch 19 test MSE: 31.4216\n",
            "Epoch 20 train MSE: 13.0863\n",
            "Epoch 20 test MSE: 31.3384\n",
            "Epoch 21 train MSE: 13.0143\n",
            "Epoch 21 test MSE: 31.2496\n",
            "Epoch 22 train MSE: 12.9332\n",
            "Epoch 22 test MSE: 31.1536\n",
            "Epoch 23 train MSE: 12.8432\n",
            "Epoch 23 test MSE: 31.0500\n",
            "Epoch 24 train MSE: 12.7455\n",
            "Epoch 24 test MSE: 30.9394\n",
            "Epoch 25 train MSE: 12.6423\n",
            "Epoch 25 test MSE: 30.8229\n",
            "Epoch 26 train MSE: 12.5362\n",
            "Epoch 26 test MSE: 30.7023\n",
            "Epoch 27 train MSE: 12.4292\n",
            "Epoch 27 test MSE: 30.5793\n",
            "Epoch 28 train MSE: 12.3231\n",
            "Epoch 28 test MSE: 30.4550\n",
            "Epoch 29 train MSE: 12.2195\n",
            "Epoch 29 test MSE: 30.3308\n",
            "Epoch 30 train MSE: 12.1198\n",
            "Epoch 30 test MSE: 30.2078\n",
            "Epoch 31 train MSE: 12.0245\n",
            "Epoch 31 test MSE: 30.0869\n",
            "Epoch 32 train MSE: 11.9339\n",
            "Epoch 32 test MSE: 29.9682\n",
            "Epoch 33 train MSE: 11.8481\n",
            "Epoch 33 test MSE: 29.8522\n",
            "Epoch 34 train MSE: 11.7671\n",
            "Epoch 34 test MSE: 29.7389\n",
            "Epoch 35 train MSE: 11.6904\n",
            "Epoch 35 test MSE: 29.6285\n",
            "Epoch 36 train MSE: 11.6178\n",
            "Epoch 36 test MSE: 29.5207\n",
            "Epoch 37 train MSE: 11.5485\n",
            "Epoch 37 test MSE: 29.4155\n",
            "Epoch 38 train MSE: 11.4817\n",
            "Epoch 38 test MSE: 29.3124\n",
            "Epoch 39 train MSE: 11.4163\n",
            "Epoch 39 test MSE: 29.2108\n",
            "Epoch 40 train MSE: 11.3506\n",
            "Epoch 40 test MSE: 29.1102\n",
            "Epoch 41 train MSE: 11.2836\n",
            "Epoch 41 test MSE: 29.0098\n",
            "Epoch 42 train MSE: 11.2147\n",
            "Epoch 42 test MSE: 28.9094\n",
            "Epoch 43 train MSE: 11.1437\n",
            "Epoch 43 test MSE: 28.8090\n",
            "Epoch 44 train MSE: 11.0692\n",
            "Epoch 44 test MSE: 28.7048\n",
            "Epoch 45 train MSE: 10.9790\n",
            "Epoch 45 test MSE: 28.5779\n",
            "Epoch 46 train MSE: 10.8846\n",
            "Epoch 46 test MSE: 28.4442\n",
            "Epoch 47 train MSE: 10.7705\n",
            "Epoch 47 test MSE: 28.2817\n",
            "Epoch 48 train MSE: 10.6778\n",
            "Epoch 48 test MSE: 28.1635\n",
            "Epoch 49 train MSE: 10.5972\n",
            "Epoch 49 test MSE: 28.0589\n"
          ]
        }
      ],
      "source": [
        "# GPU support\n",
        "device = torch.device('cpu') # cuda\n",
        "subset = 100 #can modify subset when running into memory bottlenecks\n",
        "\n",
        "# Create model and optimizers\n",
        "model = TemporalGNN(node_features=1, periods_in=12, periods_out=1).to(device)\n",
        "optimizer = torch.optim.Adam(model.parameters(), lr=0.01)\n",
        "model.train()\n",
        "\n",
        "training_mses = []\n",
        "testing_mses = []\n",
        "\n",
        "#used https://www.youtube.com/watch?v=Rws9mf1aWUs to help with temporal GNN syntax and implementation\n",
        "\n",
        "print(\"Running training...\")\n",
        "for epoch in range(50): \n",
        "    loss = 0\n",
        "    step = 0\n",
        "    snapshot_count = train_dataset.snapshot_count\n",
        "    if(snapshot_count > subset):\n",
        "      skip = 0\n",
        "      for snapshot in train_dataset:\n",
        "        if skip < snapshot_count - subset:\n",
        "          skip += 1\n",
        "        else:\n",
        "          #print(step)\n",
        "          snapshot = snapshot.to(device)\n",
        "          # Get model predictions\n",
        "          y_hat = model(snapshot.x, snapshot.edge_index)\n",
        "          # Mean squared error\n",
        "          loss = loss + torch.mean((y_hat-snapshot.y)**2) \n",
        "          step += 1\n",
        "    else:\n",
        "      for snapshot in train_dataset:\n",
        "          #print(step)\n",
        "          snapshot = snapshot.to(device)\n",
        "          # Get model predictions\n",
        "          y_hat = model(snapshot.x, snapshot.edge_index)\n",
        "          # Mean squared error\n",
        "          loss = loss + torch.mean((y_hat-snapshot.y)**2) \n",
        "          step += 1\n",
        "          if step > subset:\n",
        "            break\n",
        "\n",
        "    loss = loss / (step + 1)\n",
        "    training_mses.append(loss.item())\n",
        "    model.eval()\n",
        "    with torch.no_grad():\n",
        "      testing_loss = 0\n",
        "      testing_step = 0\n",
        "      for snapshot in test_dataset:\n",
        "        y_hat = model(snapshot.x, snapshot.edge_index)\n",
        "        testing_loss = testing_loss + torch.mean((y_hat-snapshot.y)**2)\n",
        "        testing_step += 1\n",
        "      testing_loss = testing_loss / (testing_step + 1)\n",
        "      testing_mses.append(testing_loss.item())\n",
        "    loss.backward()\n",
        "    optimizer.step()\n",
        "    optimizer.zero_grad()\n",
        "    print(\"Epoch {} train MSE: {:.4f}\".format(epoch, loss.item()))\n",
        "    print(\"Epoch {} test MSE: {:.4f}\".format(epoch, testing_loss.item()))"
      ]
    },
    {
      "cell_type": "code",
      "execution_count": 48,
      "metadata": {},
      "outputs": [
        {
          "name": "stdout",
          "output_type": "stream",
          "text": [
            "Test MSE: 27.9574\n"
          ]
        }
      ],
      "source": [
        "model.eval()\n",
        "loss = 0\n",
        "step = 0\n",
        "horizon = 12\n",
        "\n",
        "# Store for analysis\n",
        "predictions = []\n",
        "labels = []\n",
        "\n",
        "#used https://www.youtube.com/watch?v=Rws9mf1aWUs to help with temporal GNN syntax and implementation\n",
        "\n",
        "for snapshot in test_dataset:\n",
        "    snapshot = snapshot.to(device)\n",
        "    # Get predictions\n",
        "    y_hat = model(snapshot.x, snapshot.edge_index)\n",
        "    # Mean squared error\n",
        "    loss = loss + torch.mean((y_hat-snapshot.y)**2)\n",
        "    # Store for analysis below\n",
        "    labels.append(snapshot.y)\n",
        "    predictions.append(y_hat)\n",
        "    step += 1\n",
        "    #if step > horizon:\n",
        "    #      break\n",
        "\n",
        "loss = loss / (step+1)\n",
        "loss = loss.item()\n",
        "print(\"Test MSE: {:.4f}\".format(loss))"
      ]
    },
    {
      "cell_type": "code",
      "execution_count": 49,
      "metadata": {},
      "outputs": [
        {
          "data": {
            "text/plain": [
              "(3600,)"
            ]
          },
          "execution_count": 49,
          "metadata": {},
          "output_type": "execute_result"
        }
      ],
      "source": [
        "np.shape(outgoing[0])"
      ]
    },
    {
      "cell_type": "code",
      "execution_count": 50,
      "metadata": {},
      "outputs": [
        {
          "data": {
            "text/plain": [
              "<AxesSubplot:title={'center':'Training and Testing Loss'}, xlabel='Epoch', ylabel='Mean Squared Error'>"
            ]
          },
          "execution_count": 50,
          "metadata": {},
          "output_type": "execute_result"
        },
        {
          "data": {
            "image/png": "[encoded data removed]",
            "text/plain": [
              "<Figure size 2000x500 with 1 Axes>"
            ]
          },
          "metadata": {},
          "output_type": "display_data"
        }
      ],
      "source": [
        "plt.figure(figsize=(20,5))\n",
        "plt.xlabel(\"Epoch\")\n",
        "plt.ylabel(\"Mean Squared Error\")\n",
        "plt.title(\"Training and Testing Loss\")\n",
        "\n",
        "sns.lineplot(data=training_mses, label=\"Training MSEs\")\n",
        "sns.lineplot(data=testing_mses, label=\"Testing MSEs\")"
      ]
    },
    {
      "cell_type": "code",
      "execution_count": 51,
      "metadata": {},
      "outputs": [],
      "source": [
        "loss_tuples = list(zip(training_mses, testing_mses))\n",
        "loss_df = pd.DataFrame(loss_tuples, columns=[\"Training MSE\", \"Testing MSE\"])\n",
        "loss_df.to_csv(\"Data/losses_all_2023_3_12_1.csv\")"
      ]
    },
    {
      "cell_type": "code",
      "execution_count": 52,
      "metadata": {},
      "outputs": [
        {
          "name": "stdout",
          "output_type": "stream",
          "text": [
            "Data points:, (11,)\n"
          ]
        },
        {
          "data": {
            "text/plain": [
              "<AxesSubplot:>"
            ]
          },
          "execution_count": 52,
          "metadata": {},
          "output_type": "execute_result"
        },
        {
          "data": {
            "image/png": "[encoded data removed]",
            "text/plain": [
              "<Figure size 2000x500 with 1 Axes>"
            ]
          },
          "metadata": {},
          "output_type": "display_data"
        }
      ],
      "source": [
        "import matplotlib.pyplot as plt\n",
        "import seaborn as sns \n",
        "\n",
        "sensor = np.argmax(np.sum(outgoing, axis=1))\n",
        "timestep = 0\n",
        "preds = np.asarray([pred[sensor][timestep].detach().cpu().numpy() for pred in predictions])\n",
        "labs  = np.asarray([label[sensor][timestep].cpu().numpy() for label in labels])\n",
        "print(\"Data points:,\", preds.shape)\n",
        "\n",
        "plt.figure(figsize=(20,5))\n",
        "sns.lineplot(data=preds, label=\"pred\")\n",
        "sns.lineplot(data=labs, label=\"true\")"
      ]
    }
  ],
  "metadata": {
    "colab": {
      "provenance": []
    },
    "kernelspec": {
      "display_name": "Python 3",
      "name": "python3"
    },
    "language_info": {
      "codemirror_mode": {
        "name": "ipython",
        "version": 3
      },
      "file_extension": ".py",
      "mimetype": "text/x-python",
      "name": "python",
      "nbconvert_exporter": "python",
      "pygments_lexer": "ipython3",
      "version": "3.7.11"
    }
  },
  "nbformat": 4,
  "nbformat_minor": 0
}
