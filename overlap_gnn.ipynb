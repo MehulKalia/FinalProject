{
  "cells": [
    {
      "attachments": {},
      "cell_type": "markdown",
      "metadata": {},
      "source": [
        "## Data Preprocessing"
      ]
    },
    {
      "cell_type": "code",
      "execution_count": 2,
      "metadata": {
        "id": "HI9QAIYBwTVT"
      },
      "outputs": [],
      "source": [
        "import numpy as np\n",
        "import pandas as pd\n",
        "from datetime import datetime\n",
        "from datetime import timedelta\n",
        "from sklearn.utils.extmath import cartesian\n",
        "from geopy.distance import geodesic"
      ]
    },
    {
      "attachments": {},
      "cell_type": "markdown",
      "metadata": {
        "id": "albAPKxpwFfW"
      },
      "source": [
        "### Data Loading and Cleaning"
      ]
    },
    {
      "cell_type": "code",
      "execution_count": null,
      "metadata": {
        "colab": {
          "base_uri": "https://localhost:8080/",
          "height": 658
        },
        "id": "q8XALaRDrb8h",
        "outputId": "6cb7a6cb-c3b8-4107-db98-b5c1b805848e"
      },
      "outputs": [],
      "source": [
        "# start_month: 1-12\n",
        "def download_data(start_year, start_month=1, path = 'Data'):\n",
        "  start_month = start_month - 1\n",
        "\n",
        "  months = [\"01\", \"02\", \"03\", \"04\", \"05\", \"06\", \"07\", \"08\", \"09\", \"10\", \"11\", \"12\"]\n",
        "  start_year = 2017 if start_year < 2017 else start_year # limiting to 2017 because they had different data structures before that\n",
        "  end_year = 2023\n",
        "  end_month = 3\n",
        "  data_frames = []\n",
        "\n",
        "  for i in range(12 * (end_year - start_year) + end_month - start_month):\n",
        "    month = months[(i + start_month) % 12]\n",
        "    year = int(start_year + (i + start_month) / 12)\n",
        "    \n",
        "    #Use below for google colab\n",
        "    '''\n",
        "    !echo http://s3.amazonaws.com/tripdata/$year$month-citibike-tripdata.csv.zip\n",
        "    !wget -q http://s3.amazonaws.com/tripdata/$year$month-citibike-tripdata.csv.zip\n",
        "    !unzip -o $year$month-citibike-tripdata.csv.zip\n",
        "    # for some reason these downloads fail, we can upload the data manually\n",
        "    if not (year == 2022 and month == \"06\") and not (year == 2022 and month == \"07\"):\n",
        "      data_frames.append(pd.read_csv(\"{}{}-citibike-tripdata.csv\".format(year, month)))\n",
        "    '''\n",
        "    #Use below for not google colab (must download and extract csv files into folder specified by path parameter)\n",
        "    data_frames.append(pd.read_csv(path + \"\\{}{}-citibike-tripdata.csv\".format(year, month)))\n",
        "  \n",
        "  final_df = pd.concat(data_frames, axis=0, ignore_index=True)\n",
        "  data_frames = []\n",
        "  final_df.dropna(inplace=True) # drop NaN\n",
        "  final_df = final_df.sort_values(by=\"started_at\") # sort by start time\n",
        "\n",
        "  return final_df\n",
        "\n",
        "data = download_data(2023, 3)\n",
        "data.head() # we will split train/test data later"
      ]
    },
    {
      "cell_type": "code",
      "execution_count": 4,
      "metadata": {},
      "outputs": [
        {
          "data": {
            "text/plain": [
              "2188420"
            ]
          },
          "execution_count": 4,
          "metadata": {},
          "output_type": "execute_result"
        }
      ],
      "source": [
        "len(data)"
      ]
    },
    {
      "attachments": {},
      "cell_type": "markdown",
      "metadata": {
        "id": "Kv9km2OhwK6v"
      },
      "source": [
        "### Data Preprocessing- Mundane Stuff\n"
      ]
    },
    {
      "cell_type": "code",
      "execution_count": 5,
      "metadata": {},
      "outputs": [
        {
          "data": {
            "text/plain": [
              "array([4395.07, 5721.14, 5886.13, ..., 7511.19, 7372.1 , 6280.12])"
            ]
          },
          "execution_count": 5,
          "metadata": {},
          "output_type": "execute_result"
        }
      ],
      "source": [
        "data['start_station_id'].values"
      ]
    },
    {
      "cell_type": "code",
      "execution_count": 6,
      "metadata": {
        "id": "FxJ7RwvhFzzR"
      },
      "outputs": [
        {
          "data": {
            "text/plain": [
              "\"\\n#Reassigns station id to a standard #, taking to account if there are some end stations not in start stations and vice verso\\nall_location_ids = np.concatenate((data['start_station_id'].values, data['end_station_id']), axis=0).astype(str)\\nall_location_ids = np.unique(all_location_ids)\\nnew_ids = list(range(len(all_location_ids)))\\nmapping = dict(zip(all_location_ids, new_ids))\\n\\ndata['start_station_id'] = data['start_station_id'].astype(str).map(mapping)\\ndata['end_station_id'] = data['end_station_id'].astype(str).map(mapping)\\n\""
            ]
          },
          "execution_count": 6,
          "metadata": {},
          "output_type": "execute_result"
        }
      ],
      "source": [
        "\n",
        "#This code does not take into account if there are some end stations that are not in start stations\n",
        "# Reassign the station id to a standard #\n",
        "locations = data['start_station_id'].unique()\n",
        "new_ids = list(range(len(data['start_station_id'].unique())))\n",
        "mapping = dict(zip(locations, new_ids))\n",
        "\n",
        "data['start_station_id'] = data['start_station_id'].map(mapping)\n",
        "data['end_station_id'] = data['end_station_id'].map(mapping)\n",
        "\n",
        "'''\n",
        "#Reassigns station id to a standard #, taking to account if there are some end stations not in start stations and vice verso\n",
        "all_location_ids = np.concatenate((data['start_station_id'].values, data['end_station_id']), axis=0).astype(str)\n",
        "all_location_ids = np.unique(all_location_ids)\n",
        "new_ids = list(range(len(all_location_ids)))\n",
        "mapping = dict(zip(all_location_ids, new_ids))\n",
        "\n",
        "data['start_station_id'] = data['start_station_id'].astype(str).map(mapping)\n",
        "data['end_station_id'] = data['end_station_id'].astype(str).map(mapping)\n",
        "'''"
      ]
    },
    {
      "cell_type": "code",
      "execution_count": 7,
      "metadata": {},
      "outputs": [
        {
          "data": {
            "text/html": [
              "<div>\n",
              "<style scoped>\n",
              "    .dataframe tbody tr th:only-of-type {\n",
              "        vertical-align: middle;\n",
              "    }\n",
              "\n",
              "    .dataframe tbody tr th {\n",
              "        vertical-align: top;\n",
              "    }\n",
              "\n",
              "    .dataframe thead th {\n",
              "        text-align: right;\n",
              "    }\n",
              "</style>\n",
              "<table border=\"1\" class=\"dataframe\">\n",
              "  <thead>\n",
              "    <tr style=\"text-align: right;\">\n",
              "      <th></th>\n",
              "      <th>ride_id</th>\n",
              "      <th>rideable_type</th>\n",
              "      <th>started_at</th>\n",
              "      <th>ended_at</th>\n",
              "      <th>start_station_name</th>\n",
              "      <th>start_station_id</th>\n",
              "      <th>end_station_name</th>\n",
              "      <th>end_station_id</th>\n",
              "      <th>start_lat</th>\n",
              "      <th>start_lng</th>\n",
              "      <th>end_lat</th>\n",
              "      <th>end_lng</th>\n",
              "      <th>member_casual</th>\n",
              "    </tr>\n",
              "  </thead>\n",
              "  <tbody>\n",
              "    <tr>\n",
              "      <th>704451</th>\n",
              "      <td>ECE8DD5F42A4DC7B</td>\n",
              "      <td>classic_bike</td>\n",
              "      <td>2023-03-01 00:00:03</td>\n",
              "      <td>2023-03-01 00:05:14</td>\n",
              "      <td>Hanson Pl &amp; Ashland Pl</td>\n",
              "      <td>0</td>\n",
              "      <td>Carroll St &amp; 6 Ave</td>\n",
              "      <td>NaN</td>\n",
              "      <td>40.685010</td>\n",
              "      <td>-73.977699</td>\n",
              "      <td>40.674089</td>\n",
              "      <td>-73.978728</td>\n",
              "      <td>member</td>\n",
              "    </tr>\n",
              "    <tr>\n",
              "      <th>1696235</th>\n",
              "      <td>C36627A7EF6F32DB</td>\n",
              "      <td>electric_bike</td>\n",
              "      <td>2023-03-01 00:00:18</td>\n",
              "      <td>2023-03-01 00:33:16</td>\n",
              "      <td>LaGuardia Pl &amp; W 3 St</td>\n",
              "      <td>1</td>\n",
              "      <td>LaGuardia Pl &amp; W 3 St</td>\n",
              "      <td>NaN</td>\n",
              "      <td>40.729170</td>\n",
              "      <td>-73.998102</td>\n",
              "      <td>40.729170</td>\n",
              "      <td>-73.998102</td>\n",
              "      <td>member</td>\n",
              "    </tr>\n",
              "    <tr>\n",
              "      <th>1021853</th>\n",
              "      <td>EDCE1C1D0408C24E</td>\n",
              "      <td>classic_bike</td>\n",
              "      <td>2023-03-01 00:00:28</td>\n",
              "      <td>2023-03-01 00:15:16</td>\n",
              "      <td>W 47 St &amp; 10 Ave</td>\n",
              "      <td>3</td>\n",
              "      <td>Sullivan St &amp; Washington Sq</td>\n",
              "      <td>NaN</td>\n",
              "      <td>40.762726</td>\n",
              "      <td>-73.993001</td>\n",
              "      <td>40.730477</td>\n",
              "      <td>-73.999061</td>\n",
              "      <td>member</td>\n",
              "    </tr>\n",
              "    <tr>\n",
              "      <th>2141632</th>\n",
              "      <td>7DB86DAEE8F1C40B</td>\n",
              "      <td>classic_bike</td>\n",
              "      <td>2023-03-01 00:00:29</td>\n",
              "      <td>2023-03-01 00:05:54</td>\n",
              "      <td>1 Ave &amp; E 110 St</td>\n",
              "      <td>4</td>\n",
              "      <td>Central Park North &amp; Adam Clayton Powell Blvd</td>\n",
              "      <td>NaN</td>\n",
              "      <td>40.792351</td>\n",
              "      <td>-73.938264</td>\n",
              "      <td>40.799484</td>\n",
              "      <td>-73.955613</td>\n",
              "      <td>member</td>\n",
              "    </tr>\n",
              "    <tr>\n",
              "      <th>1815421</th>\n",
              "      <td>1620FCEB52A21A8C</td>\n",
              "      <td>classic_bike</td>\n",
              "      <td>2023-03-01 00:00:32</td>\n",
              "      <td>2023-03-01 00:06:19</td>\n",
              "      <td>Henry St &amp; Grand St</td>\n",
              "      <td>6</td>\n",
              "      <td>E 7 St &amp; Ave C</td>\n",
              "      <td>NaN</td>\n",
              "      <td>40.714217</td>\n",
              "      <td>-73.981083</td>\n",
              "      <td>40.724129</td>\n",
              "      <td>-73.979013</td>\n",
              "      <td>member</td>\n",
              "    </tr>\n",
              "    <tr>\n",
              "      <th>...</th>\n",
              "      <td>...</td>\n",
              "      <td>...</td>\n",
              "      <td>...</td>\n",
              "      <td>...</td>\n",
              "      <td>...</td>\n",
              "      <td>...</td>\n",
              "      <td>...</td>\n",
              "      <td>...</td>\n",
              "      <td>...</td>\n",
              "      <td>...</td>\n",
              "      <td>...</td>\n",
              "      <td>...</td>\n",
              "      <td>...</td>\n",
              "    </tr>\n",
              "    <tr>\n",
              "      <th>1180362</th>\n",
              "      <td>A65ABEEAFB542926</td>\n",
              "      <td>classic_bike</td>\n",
              "      <td>2023-03-31 23:59:42</td>\n",
              "      <td>2023-04-01 00:10:21</td>\n",
              "      <td>Columbus Ave &amp; W 72 St</td>\n",
              "      <td>505</td>\n",
              "      <td>E 59 St &amp; Madison Ave</td>\n",
              "      <td>NaN</td>\n",
              "      <td>40.776825</td>\n",
              "      <td>-73.979105</td>\n",
              "      <td>40.763505</td>\n",
              "      <td>-73.971092</td>\n",
              "      <td>casual</td>\n",
              "    </tr>\n",
              "    <tr>\n",
              "      <th>1729668</th>\n",
              "      <td>AF0557D4983E903B</td>\n",
              "      <td>classic_bike</td>\n",
              "      <td>2023-03-31 23:59:55</td>\n",
              "      <td>2023-04-01 00:04:35</td>\n",
              "      <td>W 148 St &amp; Amsterdam Ave</td>\n",
              "      <td>1641</td>\n",
              "      <td>Broadway &amp; W 168 St</td>\n",
              "      <td>NaN</td>\n",
              "      <td>40.827032</td>\n",
              "      <td>-73.945940</td>\n",
              "      <td>40.840896</td>\n",
              "      <td>-73.939721</td>\n",
              "      <td>member</td>\n",
              "    </tr>\n",
              "    <tr>\n",
              "      <th>616392</th>\n",
              "      <td>392DDBFC030D0C35</td>\n",
              "      <td>classic_bike</td>\n",
              "      <td>2023-03-31 23:59:56</td>\n",
              "      <td>2023-04-01 00:06:54</td>\n",
              "      <td>40 Ave &amp; 9 St</td>\n",
              "      <td>42</td>\n",
              "      <td>31 St &amp; Newtown Ave</td>\n",
              "      <td>NaN</td>\n",
              "      <td>40.757493</td>\n",
              "      <td>-73.945356</td>\n",
              "      <td>40.767549</td>\n",
              "      <td>-73.920933</td>\n",
              "      <td>member</td>\n",
              "    </tr>\n",
              "    <tr>\n",
              "      <th>1543363</th>\n",
              "      <td>5A0119844DD3B675</td>\n",
              "      <td>classic_bike</td>\n",
              "      <td>2023-03-31 23:59:57</td>\n",
              "      <td>2023-04-01 00:17:36</td>\n",
              "      <td>5 Ave &amp; E 93 St</td>\n",
              "      <td>548</td>\n",
              "      <td>40 Ave &amp; 9 St</td>\n",
              "      <td>NaN</td>\n",
              "      <td>40.785943</td>\n",
              "      <td>-73.957477</td>\n",
              "      <td>40.757420</td>\n",
              "      <td>-73.945133</td>\n",
              "      <td>member</td>\n",
              "    </tr>\n",
              "    <tr>\n",
              "      <th>1643816</th>\n",
              "      <td>AAF89BC1107F119D</td>\n",
              "      <td>classic_bike</td>\n",
              "      <td>2023-03-31 23:59:57</td>\n",
              "      <td>2023-04-01 00:17:36</td>\n",
              "      <td>E 32 St &amp; Park Ave</td>\n",
              "      <td>800</td>\n",
              "      <td>E 2 St &amp; Avenue A</td>\n",
              "      <td>NaN</td>\n",
              "      <td>40.745712</td>\n",
              "      <td>-73.981948</td>\n",
              "      <td>40.723077</td>\n",
              "      <td>-73.985836</td>\n",
              "      <td>member</td>\n",
              "    </tr>\n",
              "  </tbody>\n",
              "</table>\n",
              "<p>1699635 rows × 13 columns</p>\n",
              "</div>"
            ],
            "text/plain": [
              "                  ride_id  rideable_type           started_at  \\\n",
              "704451   ECE8DD5F42A4DC7B   classic_bike  2023-03-01 00:00:03   \n",
              "1696235  C36627A7EF6F32DB  electric_bike  2023-03-01 00:00:18   \n",
              "1021853  EDCE1C1D0408C24E   classic_bike  2023-03-01 00:00:28   \n",
              "2141632  7DB86DAEE8F1C40B   classic_bike  2023-03-01 00:00:29   \n",
              "1815421  1620FCEB52A21A8C   classic_bike  2023-03-01 00:00:32   \n",
              "...                   ...            ...                  ...   \n",
              "1180362  A65ABEEAFB542926   classic_bike  2023-03-31 23:59:42   \n",
              "1729668  AF0557D4983E903B   classic_bike  2023-03-31 23:59:55   \n",
              "616392   392DDBFC030D0C35   classic_bike  2023-03-31 23:59:56   \n",
              "1543363  5A0119844DD3B675   classic_bike  2023-03-31 23:59:57   \n",
              "1643816  AAF89BC1107F119D   classic_bike  2023-03-31 23:59:57   \n",
              "\n",
              "                    ended_at        start_station_name  start_station_id  \\\n",
              "704451   2023-03-01 00:05:14    Hanson Pl & Ashland Pl                 0   \n",
              "1696235  2023-03-01 00:33:16     LaGuardia Pl & W 3 St                 1   \n",
              "1021853  2023-03-01 00:15:16          W 47 St & 10 Ave                 3   \n",
              "2141632  2023-03-01 00:05:54          1 Ave & E 110 St                 4   \n",
              "1815421  2023-03-01 00:06:19       Henry St & Grand St                 6   \n",
              "...                      ...                       ...               ...   \n",
              "1180362  2023-04-01 00:10:21    Columbus Ave & W 72 St               505   \n",
              "1729668  2023-04-01 00:04:35  W 148 St & Amsterdam Ave              1641   \n",
              "616392   2023-04-01 00:06:54             40 Ave & 9 St                42   \n",
              "1543363  2023-04-01 00:17:36           5 Ave & E 93 St               548   \n",
              "1643816  2023-04-01 00:17:36        E 32 St & Park Ave               800   \n",
              "\n",
              "                                      end_station_name  end_station_id  \\\n",
              "704451                              Carroll St & 6 Ave             NaN   \n",
              "1696235                          LaGuardia Pl & W 3 St             NaN   \n",
              "1021853                    Sullivan St & Washington Sq             NaN   \n",
              "2141632  Central Park North & Adam Clayton Powell Blvd             NaN   \n",
              "1815421                                 E 7 St & Ave C             NaN   \n",
              "...                                                ...             ...   \n",
              "1180362                          E 59 St & Madison Ave             NaN   \n",
              "1729668                            Broadway & W 168 St             NaN   \n",
              "616392                             31 St & Newtown Ave             NaN   \n",
              "1543363                                  40 Ave & 9 St             NaN   \n",
              "1643816                              E 2 St & Avenue A             NaN   \n",
              "\n",
              "         start_lat  start_lng    end_lat    end_lng member_casual  \n",
              "704451   40.685010 -73.977699  40.674089 -73.978728        member  \n",
              "1696235  40.729170 -73.998102  40.729170 -73.998102        member  \n",
              "1021853  40.762726 -73.993001  40.730477 -73.999061        member  \n",
              "2141632  40.792351 -73.938264  40.799484 -73.955613        member  \n",
              "1815421  40.714217 -73.981083  40.724129 -73.979013        member  \n",
              "...            ...        ...        ...        ...           ...  \n",
              "1180362  40.776825 -73.979105  40.763505 -73.971092        casual  \n",
              "1729668  40.827032 -73.945940  40.840896 -73.939721        member  \n",
              "616392   40.757493 -73.945356  40.767549 -73.920933        member  \n",
              "1543363  40.785943 -73.957477  40.757420 -73.945133        member  \n",
              "1643816  40.745712 -73.981948  40.723077 -73.985836        member  \n",
              "\n",
              "[1699635 rows x 13 columns]"
            ]
          },
          "execution_count": 7,
          "metadata": {},
          "output_type": "execute_result"
        }
      ],
      "source": [
        "data[data.isna().any(axis=1)]"
      ]
    },
    {
      "cell_type": "code",
      "execution_count": 8,
      "metadata": {},
      "outputs": [],
      "source": [
        "data = data.dropna()"
      ]
    },
    {
      "cell_type": "code",
      "execution_count": 9,
      "metadata": {},
      "outputs": [
        {
          "data": {
            "text/html": [
              "<div>\n",
              "<style scoped>\n",
              "    .dataframe tbody tr th:only-of-type {\n",
              "        vertical-align: middle;\n",
              "    }\n",
              "\n",
              "    .dataframe tbody tr th {\n",
              "        vertical-align: top;\n",
              "    }\n",
              "\n",
              "    .dataframe thead th {\n",
              "        text-align: right;\n",
              "    }\n",
              "</style>\n",
              "<table border=\"1\" class=\"dataframe\">\n",
              "  <thead>\n",
              "    <tr style=\"text-align: right;\">\n",
              "      <th></th>\n",
              "      <th>ride_id</th>\n",
              "      <th>rideable_type</th>\n",
              "      <th>started_at</th>\n",
              "      <th>ended_at</th>\n",
              "      <th>start_station_name</th>\n",
              "      <th>start_station_id</th>\n",
              "      <th>end_station_name</th>\n",
              "      <th>end_station_id</th>\n",
              "      <th>start_lat</th>\n",
              "      <th>start_lng</th>\n",
              "      <th>end_lat</th>\n",
              "      <th>end_lng</th>\n",
              "      <th>member_casual</th>\n",
              "    </tr>\n",
              "  </thead>\n",
              "  <tbody>\n",
              "  </tbody>\n",
              "</table>\n",
              "</div>"
            ],
            "text/plain": [
              "Empty DataFrame\n",
              "Columns: [ride_id, rideable_type, started_at, ended_at, start_station_name, start_station_id, end_station_name, end_station_id, start_lat, start_lng, end_lat, end_lng, member_casual]\n",
              "Index: []"
            ]
          },
          "execution_count": 9,
          "metadata": {},
          "output_type": "execute_result"
        }
      ],
      "source": [
        "data[data.isna().any(axis=1)]"
      ]
    },
    {
      "cell_type": "code",
      "execution_count": 10,
      "metadata": {
        "colab": {
          "base_uri": "https://localhost:8080/",
          "height": 444
        },
        "id": "GlORY3-Zkyo1",
        "outputId": "ad152582-23b0-4f9c-813d-ef6726171710"
      },
      "outputs": [
        {
          "data": {
            "text/html": [
              "<div>\n",
              "<style scoped>\n",
              "    .dataframe tbody tr th:only-of-type {\n",
              "        vertical-align: middle;\n",
              "    }\n",
              "\n",
              "    .dataframe tbody tr th {\n",
              "        vertical-align: top;\n",
              "    }\n",
              "\n",
              "    .dataframe thead th {\n",
              "        text-align: right;\n",
              "    }\n",
              "</style>\n",
              "<table border=\"1\" class=\"dataframe\">\n",
              "  <thead>\n",
              "    <tr style=\"text-align: right;\">\n",
              "      <th></th>\n",
              "      <th>ride_id</th>\n",
              "      <th>rideable_type</th>\n",
              "      <th>started_at</th>\n",
              "      <th>ended_at</th>\n",
              "      <th>start_station_name</th>\n",
              "      <th>start_station_id</th>\n",
              "      <th>end_station_name</th>\n",
              "      <th>end_station_id</th>\n",
              "      <th>start_lat</th>\n",
              "      <th>start_lng</th>\n",
              "      <th>end_lat</th>\n",
              "      <th>end_lng</th>\n",
              "      <th>member_casual</th>\n",
              "      <th>trip_duration</th>\n",
              "    </tr>\n",
              "  </thead>\n",
              "  <tbody>\n",
              "    <tr>\n",
              "      <th>1430211</th>\n",
              "      <td>837ECA56CB7EC87B</td>\n",
              "      <td>classic_bike</td>\n",
              "      <td>2023-03-01 00:00:22</td>\n",
              "      <td>2023-03-01 00:05:15</td>\n",
              "      <td>E 20 St &amp; FDR Dr</td>\n",
              "      <td>2</td>\n",
              "      <td>University Pl &amp; E 14 St</td>\n",
              "      <td>87.0</td>\n",
              "      <td>40.733272</td>\n",
              "      <td>-73.975632</td>\n",
              "      <td>40.734814</td>\n",
              "      <td>-73.992085</td>\n",
              "      <td>member</td>\n",
              "      <td>293.0</td>\n",
              "    </tr>\n",
              "    <tr>\n",
              "      <th>1067453</th>\n",
              "      <td>608DA83170DF68BB</td>\n",
              "      <td>classic_bike</td>\n",
              "      <td>2023-03-01 00:00:31</td>\n",
              "      <td>2023-03-01 00:21:21</td>\n",
              "      <td>E 33 St &amp; 1 Ave</td>\n",
              "      <td>5</td>\n",
              "      <td>South St &amp; Whitehall St</td>\n",
              "      <td>701.0</td>\n",
              "      <td>40.743553</td>\n",
              "      <td>-73.975172</td>\n",
              "      <td>40.701221</td>\n",
              "      <td>-74.012342</td>\n",
              "      <td>member</td>\n",
              "      <td>1250.0</td>\n",
              "    </tr>\n",
              "    <tr>\n",
              "      <th>495152</th>\n",
              "      <td>E288F7A86C3EEE2E</td>\n",
              "      <td>classic_bike</td>\n",
              "      <td>2023-03-01 00:01:02</td>\n",
              "      <td>2023-03-01 00:07:13</td>\n",
              "      <td>Kenmare St &amp; Elizabeth St</td>\n",
              "      <td>15</td>\n",
              "      <td>Pike St &amp; E Broadway</td>\n",
              "      <td>139.0</td>\n",
              "      <td>40.720691</td>\n",
              "      <td>-73.994833</td>\n",
              "      <td>40.714067</td>\n",
              "      <td>-73.992939</td>\n",
              "      <td>member</td>\n",
              "      <td>371.0</td>\n",
              "    </tr>\n",
              "    <tr>\n",
              "      <th>807832</th>\n",
              "      <td>1E7B0092BF86C8E9</td>\n",
              "      <td>classic_bike</td>\n",
              "      <td>2023-03-01 00:01:27</td>\n",
              "      <td>2023-03-01 00:04:15</td>\n",
              "      <td>Pacific St &amp; Troy Ave</td>\n",
              "      <td>16</td>\n",
              "      <td>Bergen St &amp; Kingston Ave</td>\n",
              "      <td>1015.0</td>\n",
              "      <td>40.676860</td>\n",
              "      <td>-73.936070</td>\n",
              "      <td>40.675600</td>\n",
              "      <td>-73.941500</td>\n",
              "      <td>member</td>\n",
              "      <td>168.0</td>\n",
              "    </tr>\n",
              "    <tr>\n",
              "      <th>1393964</th>\n",
              "      <td>C10170585EFC4497</td>\n",
              "      <td>classic_bike</td>\n",
              "      <td>2023-03-01 00:01:29</td>\n",
              "      <td>2023-03-01 00:48:54</td>\n",
              "      <td>W 20 St &amp; 5 Ave</td>\n",
              "      <td>7</td>\n",
              "      <td>Broadway &amp; W 48 St</td>\n",
              "      <td>343.0</td>\n",
              "      <td>40.739730</td>\n",
              "      <td>-73.991040</td>\n",
              "      <td>40.760177</td>\n",
              "      <td>-73.984868</td>\n",
              "      <td>casual</td>\n",
              "      <td>2845.0</td>\n",
              "    </tr>\n",
              "  </tbody>\n",
              "</table>\n",
              "</div>"
            ],
            "text/plain": [
              "                  ride_id rideable_type          started_at  \\\n",
              "1430211  837ECA56CB7EC87B  classic_bike 2023-03-01 00:00:22   \n",
              "1067453  608DA83170DF68BB  classic_bike 2023-03-01 00:00:31   \n",
              "495152   E288F7A86C3EEE2E  classic_bike 2023-03-01 00:01:02   \n",
              "807832   1E7B0092BF86C8E9  classic_bike 2023-03-01 00:01:27   \n",
              "1393964  C10170585EFC4497  classic_bike 2023-03-01 00:01:29   \n",
              "\n",
              "                   ended_at         start_station_name  start_station_id  \\\n",
              "1430211 2023-03-01 00:05:15           E 20 St & FDR Dr                 2   \n",
              "1067453 2023-03-01 00:21:21            E 33 St & 1 Ave                 5   \n",
              "495152  2023-03-01 00:07:13  Kenmare St & Elizabeth St                15   \n",
              "807832  2023-03-01 00:04:15      Pacific St & Troy Ave                16   \n",
              "1393964 2023-03-01 00:48:54            W 20 St & 5 Ave                 7   \n",
              "\n",
              "                 end_station_name  end_station_id  start_lat  start_lng  \\\n",
              "1430211   University Pl & E 14 St            87.0  40.733272 -73.975632   \n",
              "1067453   South St & Whitehall St           701.0  40.743553 -73.975172   \n",
              "495152       Pike St & E Broadway           139.0  40.720691 -73.994833   \n",
              "807832   Bergen St & Kingston Ave          1015.0  40.676860 -73.936070   \n",
              "1393964        Broadway & W 48 St           343.0  40.739730 -73.991040   \n",
              "\n",
              "           end_lat    end_lng member_casual  trip_duration  \n",
              "1430211  40.734814 -73.992085        member          293.0  \n",
              "1067453  40.701221 -74.012342        member         1250.0  \n",
              "495152   40.714067 -73.992939        member          371.0  \n",
              "807832   40.675600 -73.941500        member          168.0  \n",
              "1393964  40.760177 -73.984868        casual         2845.0  "
            ]
          },
          "execution_count": 10,
          "metadata": {},
          "output_type": "execute_result"
        }
      ],
      "source": [
        "# convert strings into date objects\n",
        "data[\"started_at\"] = pd.to_datetime(data[\"started_at\"], format=\"%Y-%m-%d %H:%M:%S\")\n",
        "data[\"ended_at\"] = pd.to_datetime(data[\"ended_at\"], format=\"%Y-%m-%d %H:%M:%S\")\n",
        "\n",
        "# calculate strip duration in seconds\n",
        "data['trip_duration'] = (data['ended_at'] - data['started_at']).dt.total_seconds()\n",
        "\n",
        "data.head()"
      ]
    },
    {
      "cell_type": "markdown",
      "metadata": {
        "id": "WS4IbqxQ-y3m"
      },
      "source": [
        "### Nodes\n"
      ]
    },
    {
      "cell_type": "code",
      "execution_count": 11,
      "metadata": {
        "id": "usH9iZ0LTGCs"
      },
      "outputs": [],
      "source": [
        "outgoing_trips = data.groupby(\"start_station_id\").count()\n",
        "incoming_trips = data.groupby(\"end_station_id\").count()"
      ]
    },
    {
      "cell_type": "code",
      "execution_count": 12,
      "metadata": {
        "colab": {
          "base_uri": "https://localhost:8080/"
        },
        "id": "zRdQNH3sTGur",
        "outputId": "6a856247-bb12-400f-9cb8-d6047cbab1aa"
      },
      "outputs": [
        {
          "name": "stdout",
          "output_type": "stream",
          "text": [
            "Float64Index([  7.0,  17.0,  18.0,  24.0,  27.0,  35.0,  36.0,  39.0,  43.0,\n",
            "               44.0,  47.0,  51.0,  52.0,  53.0,  54.0,  55.0,  56.0,  61.0,\n",
            "               64.0,  72.0,  76.0,  77.0,  85.0,  86.0,  87.0,  89.0,  96.0,\n",
            "              101.0, 106.0, 114.0, 115.0, 116.0, 121.0, 124.0, 126.0, 128.0,\n",
            "              129.0, 130.0, 131.0, 132.0, 133.0, 137.0, 139.0, 141.0, 142.0,\n",
            "              147.0, 149.0, 156.0, 159.0, 165.0, 169.0, 173.0, 180.0, 181.0,\n",
            "              183.0, 187.0, 191.0, 192.0, 194.0, 197.0, 200.0, 204.0, 208.0,\n",
            "              214.0, 219.0, 221.0, 231.0, 236.0, 239.0, 243.0, 251.0, 256.0,\n",
            "              258.0, 263.0, 265.0, 268.0, 269.0, 270.0, 272.0, 273.0, 274.0,\n",
            "              276.0, 278.0, 279.0, 282.0, 285.0, 287.0, 288.0, 292.0, 298.0,\n",
            "              299.0, 301.0, 302.0, 310.0, 311.0, 313.0, 314.0, 318.0, 325.0,\n",
            "              335.0],\n",
            "             dtype='float64', name='end_station_id')\n"
          ]
        }
      ],
      "source": [
        "print(incoming_trips.index[0:100])"
      ]
    },
    {
      "cell_type": "code",
      "execution_count": 13,
      "metadata": {
        "id": "7HyKYyDGSUYo"
      },
      "outputs": [
        {
          "name": "stdout",
          "output_type": "stream",
          "text": [
            "                  ride_id  rideable_type  started_at  ended_at  \\\n",
            "start_station_id                                                 \n",
            "0                     532            532         532       532   \n",
            "1                     667            667         667       667   \n",
            "2                    1035           1035        1035      1035   \n",
            "3                     925            925         925       925   \n",
            "4                     205            205         205       205   \n",
            "...                   ...            ...         ...       ...   \n",
            "1803                   46             46          46        46   \n",
            "1804                    3              3           3         3   \n",
            "1805                    2              2           2         2   \n",
            "1806                    1              1           1         1   \n",
            "1807                    6              6           6         6   \n",
            "\n",
            "                  start_station_name  end_station_name  end_station_id  \\\n",
            "start_station_id                                                         \n",
            "0                                532               532             532   \n",
            "1                                667               667             667   \n",
            "2                               1035              1035            1035   \n",
            "3                                925               925             925   \n",
            "4                                205               205             205   \n",
            "...                              ...               ...             ...   \n",
            "1803                              46                46              46   \n",
            "1804                               3                 3               3   \n",
            "1805                               2                 2               2   \n",
            "1806                               1                 1               1   \n",
            "1807                               6                 6               6   \n",
            "\n",
            "                  start_lat  start_lng  end_lat  end_lng  member_casual  \\\n",
            "start_station_id                                                          \n",
            "0                       532        532      532      532            532   \n",
            "1                       667        667      667      667            667   \n",
            "2                      1035       1035     1035     1035           1035   \n",
            "3                       925        925      925      925            925   \n",
            "4                       205        205      205      205            205   \n",
            "...                     ...        ...      ...      ...            ...   \n",
            "1803                     46         46       46       46             46   \n",
            "1804                      3          3        3        3              3   \n",
            "1805                      2          2        2        2              2   \n",
            "1806                      1          1        1        1              1   \n",
            "1807                      6          6        6        6              6   \n",
            "\n",
            "                  trip_duration  \n",
            "start_station_id                 \n",
            "0                           532  \n",
            "1                           667  \n",
            "2                          1035  \n",
            "3                           925  \n",
            "4                           205  \n",
            "...                         ...  \n",
            "1803                         46  \n",
            "1804                          3  \n",
            "1805                          2  \n",
            "1806                          1  \n",
            "1807                          6  \n",
            "\n",
            "[1808 rows x 13 columns]\n"
          ]
        }
      ],
      "source": [
        "print(data.groupby(\"start_station_id\").count())"
      ]
    },
    {
      "cell_type": "code",
      "execution_count": 14,
      "metadata": {
        "colab": {
          "base_uri": "https://localhost:8080/"
        },
        "id": "9znvbrflq0Cy",
        "outputId": "30c96323-9ec4-4f6d-ff89-4323de747fef"
      },
      "outputs": [
        {
          "name": "stdout",
          "output_type": "stream",
          "text": [
            "Full shape:  (1808, 2)\n"
          ]
        },
        {
          "data": {
            "text/plain": [
              "array([[0.18424705, 0.        ],\n",
              "       [0.23108952, 0.        ],\n",
              "       [0.35877863, 0.        ],\n",
              "       [0.32061069, 0.        ],\n",
              "       [0.07078418, 0.        ]])"
            ]
          },
          "execution_count": 14,
          "metadata": {},
          "output_type": "execute_result"
        }
      ],
      "source": [
        "import numpy as np\n",
        "# Find out how many outgoing bikers we have\n",
        "outgoing_trips = data.groupby(\"start_station_id\").count()\n",
        "incoming_trips = data.groupby(\"end_station_id\").count()\n",
        "\n",
        "# Match the list sizes\n",
        "actual_incoming_trips = []\n",
        "for idx in outgoing_trips.index:\n",
        "  if idx not in incoming_trips.index:\n",
        "    actual_incoming_trips.append(0)\n",
        "  else:\n",
        "    actual_incoming_trips.append(incoming_trips.loc[[idx]]['ride_id'].values[0])\n",
        "\n",
        "actual_incoming_trips = np.asarray(actual_incoming_trips)\n",
        "incoming_trips = actual_incoming_trips\n",
        "outgoing_trips = outgoing_trips['ride_id'].values\n",
        "\n",
        "# Normalize features between 0 and 1\n",
        "outgoing_trips = (outgoing_trips - np.min(outgoing_trips)) / (np.max(outgoing_trips) - np.min(outgoing_trips))\n",
        "incoming_trips = (incoming_trips - np.min(incoming_trips)) / (np.max(incoming_trips) - np.min(incoming_trips))\n",
        "\n",
        "node_features = np.stack([outgoing_trips, incoming_trips]).transpose()\n",
        "print(\"Full shape: \", node_features.shape)\n",
        "node_features[0:5]"
      ]
    },
    {
      "cell_type": "markdown",
      "metadata": {
        "id": "c460PrN--1Qd"
      },
      "source": [
        "### Edges\n"
      ]
    },
    {
      "cell_type": "code",
      "execution_count": 15,
      "metadata": {
        "colab": {
          "base_uri": "https://localhost:8080/",
          "height": 424
        },
        "id": "gRjcdvtzcusn",
        "outputId": "5114a355-3f9d-4915-d132-62d777a99800"
      },
      "outputs": [],
      "source": [
        "cols = [\"start_lng\", \"start_lat\", \"end_lng\", \"end_lat\", \"start_station_id\", \"end_station_id\"]\n",
        "#station_pairs = data.drop_duplicates(subset=[\"start_station_id\", \"end_station_id\" ], keep=\"first\")[cols]\n",
        "#station_pairs[\"distance\"] = station_pairs.apply(lambda x: geodesic((x[\"start_lat\"], x[\"start_lng\"]), (x[\"end_lat\"], x[\"end_lng\"])).meters, axis=1)\n",
        "#station_pairs.to_csv(\"Data\\station_pairs2023-3only.csv\")\n",
        "station_pairs = pd.read_csv(\"Data\\station_pairs2023-3only.csv\")\n"
      ]
    },
    {
      "cell_type": "code",
      "execution_count": 16,
      "metadata": {
        "colab": {
          "base_uri": "https://localhost:8080/",
          "height": 424
        },
        "id": "YuQeebLkXrbX",
        "outputId": "7c6ab3dc-c740-4cef-ce15-cff67a26fdb3"
      },
      "outputs": [
        {
          "data": {
            "text/html": [
              "<div>\n",
              "<style scoped>\n",
              "    .dataframe tbody tr th:only-of-type {\n",
              "        vertical-align: middle;\n",
              "    }\n",
              "\n",
              "    .dataframe tbody tr th {\n",
              "        vertical-align: top;\n",
              "    }\n",
              "\n",
              "    .dataframe thead th {\n",
              "        text-align: right;\n",
              "    }\n",
              "</style>\n",
              "<table border=\"1\" class=\"dataframe\">\n",
              "  <thead>\n",
              "    <tr style=\"text-align: right;\">\n",
              "      <th></th>\n",
              "      <th>Unnamed: 0</th>\n",
              "      <th>start_lng</th>\n",
              "      <th>start_lat</th>\n",
              "      <th>end_lng</th>\n",
              "      <th>end_lat</th>\n",
              "      <th>start_station_id</th>\n",
              "      <th>end_station_id</th>\n",
              "      <th>distance</th>\n",
              "      <th>edge</th>\n",
              "    </tr>\n",
              "  </thead>\n",
              "  <tbody>\n",
              "    <tr>\n",
              "      <th>0</th>\n",
              "      <td>1430211</td>\n",
              "      <td>-73.975632</td>\n",
              "      <td>40.733272</td>\n",
              "      <td>-73.992085</td>\n",
              "      <td>40.734814</td>\n",
              "      <td>2</td>\n",
              "      <td>87.0</td>\n",
              "      <td>1400.334392</td>\n",
              "      <td>False</td>\n",
              "    </tr>\n",
              "    <tr>\n",
              "      <th>1</th>\n",
              "      <td>1067453</td>\n",
              "      <td>-73.975172</td>\n",
              "      <td>40.743553</td>\n",
              "      <td>-74.012342</td>\n",
              "      <td>40.701221</td>\n",
              "      <td>5</td>\n",
              "      <td>701.0</td>\n",
              "      <td>5653.336216</td>\n",
              "      <td>False</td>\n",
              "    </tr>\n",
              "    <tr>\n",
              "      <th>2</th>\n",
              "      <td>495152</td>\n",
              "      <td>-73.994833</td>\n",
              "      <td>40.720691</td>\n",
              "      <td>-73.992939</td>\n",
              "      <td>40.714067</td>\n",
              "      <td>15</td>\n",
              "      <td>139.0</td>\n",
              "      <td>752.817038</td>\n",
              "      <td>False</td>\n",
              "    </tr>\n",
              "    <tr>\n",
              "      <th>3</th>\n",
              "      <td>807832</td>\n",
              "      <td>-73.936070</td>\n",
              "      <td>40.676860</td>\n",
              "      <td>-73.941500</td>\n",
              "      <td>40.675600</td>\n",
              "      <td>16</td>\n",
              "      <td>1015.0</td>\n",
              "      <td>479.931426</td>\n",
              "      <td>False</td>\n",
              "    </tr>\n",
              "    <tr>\n",
              "      <th>4</th>\n",
              "      <td>1393964</td>\n",
              "      <td>-73.991040</td>\n",
              "      <td>40.739730</td>\n",
              "      <td>-73.984868</td>\n",
              "      <td>40.760177</td>\n",
              "      <td>7</td>\n",
              "      <td>343.0</td>\n",
              "      <td>2329.729853</td>\n",
              "      <td>False</td>\n",
              "    </tr>\n",
              "    <tr>\n",
              "      <th>...</th>\n",
              "      <td>...</td>\n",
              "      <td>...</td>\n",
              "      <td>...</td>\n",
              "      <td>...</td>\n",
              "      <td>...</td>\n",
              "      <td>...</td>\n",
              "      <td>...</td>\n",
              "      <td>...</td>\n",
              "      <td>...</td>\n",
              "    </tr>\n",
              "    <tr>\n",
              "      <th>92792</th>\n",
              "      <td>480158</td>\n",
              "      <td>-74.008444</td>\n",
              "      <td>40.719985</td>\n",
              "      <td>-73.977688</td>\n",
              "      <td>40.725213</td>\n",
              "      <td>1076</td>\n",
              "      <td>130.0</td>\n",
              "      <td>2662.592263</td>\n",
              "      <td>False</td>\n",
              "    </tr>\n",
              "    <tr>\n",
              "      <th>92793</th>\n",
              "      <td>353214</td>\n",
              "      <td>-73.981909</td>\n",
              "      <td>40.693534</td>\n",
              "      <td>-73.971763</td>\n",
              "      <td>40.679119</td>\n",
              "      <td>769</td>\n",
              "      <td>1342.0</td>\n",
              "      <td>1816.099905</td>\n",
              "      <td>False</td>\n",
              "    </tr>\n",
              "    <tr>\n",
              "      <th>92794</th>\n",
              "      <td>256109</td>\n",
              "      <td>-73.982090</td>\n",
              "      <td>40.670484</td>\n",
              "      <td>-73.944470</td>\n",
              "      <td>40.674120</td>\n",
              "      <td>1284</td>\n",
              "      <td>1327.0</td>\n",
              "      <td>3206.293487</td>\n",
              "      <td>False</td>\n",
              "    </tr>\n",
              "    <tr>\n",
              "      <th>92795</th>\n",
              "      <td>851457</td>\n",
              "      <td>-73.917152</td>\n",
              "      <td>40.754959</td>\n",
              "      <td>-73.959607</td>\n",
              "      <td>40.743366</td>\n",
              "      <td>993</td>\n",
              "      <td>510.0</td>\n",
              "      <td>3809.607371</td>\n",
              "      <td>False</td>\n",
              "    </tr>\n",
              "    <tr>\n",
              "      <th>92796</th>\n",
              "      <td>474501</td>\n",
              "      <td>-73.936433</td>\n",
              "      <td>40.689532</td>\n",
              "      <td>-73.965369</td>\n",
              "      <td>40.691960</td>\n",
              "      <td>951</td>\n",
              "      <td>141.0</td>\n",
              "      <td>2460.674521</td>\n",
              "      <td>False</td>\n",
              "    </tr>\n",
              "  </tbody>\n",
              "</table>\n",
              "<p>92797 rows × 9 columns</p>\n",
              "</div>"
            ],
            "text/plain": [
              "       Unnamed: 0  start_lng  start_lat    end_lng    end_lat  \\\n",
              "0         1430211 -73.975632  40.733272 -73.992085  40.734814   \n",
              "1         1067453 -73.975172  40.743553 -74.012342  40.701221   \n",
              "2          495152 -73.994833  40.720691 -73.992939  40.714067   \n",
              "3          807832 -73.936070  40.676860 -73.941500  40.675600   \n",
              "4         1393964 -73.991040  40.739730 -73.984868  40.760177   \n",
              "...           ...        ...        ...        ...        ...   \n",
              "92792      480158 -74.008444  40.719985 -73.977688  40.725213   \n",
              "92793      353214 -73.981909  40.693534 -73.971763  40.679119   \n",
              "92794      256109 -73.982090  40.670484 -73.944470  40.674120   \n",
              "92795      851457 -73.917152  40.754959 -73.959607  40.743366   \n",
              "92796      474501 -73.936433  40.689532 -73.965369  40.691960   \n",
              "\n",
              "       start_station_id  end_station_id     distance   edge  \n",
              "0                     2            87.0  1400.334392  False  \n",
              "1                     5           701.0  5653.336216  False  \n",
              "2                    15           139.0   752.817038  False  \n",
              "3                    16          1015.0   479.931426  False  \n",
              "4                     7           343.0  2329.729853  False  \n",
              "...                 ...             ...          ...    ...  \n",
              "92792              1076           130.0  2662.592263  False  \n",
              "92793               769          1342.0  1816.099905  False  \n",
              "92794              1284          1327.0  3206.293487  False  \n",
              "92795               993           510.0  3809.607371  False  \n",
              "92796               951           141.0  2460.674521  False  \n",
              "\n",
              "[92797 rows x 9 columns]"
            ]
          },
          "execution_count": 16,
          "metadata": {},
          "output_type": "execute_result"
        }
      ],
      "source": [
        "station_pairs[\"edge\"] = station_pairs[\"distance\"] < 150 # we will only consider edges less than 300 meters to limit the complexity of the model\n",
        "station_pairs"
      ]
    },
    {
      "cell_type": "code",
      "execution_count": 17,
      "metadata": {
        "colab": {
          "base_uri": "https://localhost:8080/"
        },
        "id": "II9j2sQ0X12G",
        "outputId": "2555a3f7-295e-41e3-dcc5-602e9af89972"
      },
      "outputs": [
        {
          "name": "stdout",
          "output_type": "stream",
          "text": [
            "1370\n"
          ]
        },
        {
          "data": {
            "text/plain": [
              "array([[  51.,  132.,  108., ..., 1805., 1802., 1802.],\n",
              "       [  51.,  132.,  219., ..., 1805., 1802., 1799.]])"
            ]
          },
          "execution_count": 17,
          "metadata": {},
          "output_type": "execute_result"
        }
      ],
      "source": [
        "edge_index = station_pairs[station_pairs[\"edge\"] == True][[\"start_station_id\", \"end_station_id\"]].values\n",
        "edge_index = edge_index.transpose()\n",
        "print(edge_index.size)\n",
        "edge_index"
      ]
    },
    {
      "cell_type": "code",
      "execution_count": 18,
      "metadata": {},
      "outputs": [
        {
          "name": "stdout",
          "output_type": "stream",
          "text": [
            "(2, 685)\n",
            "7.0\n",
            "1805.0\n"
          ]
        }
      ],
      "source": [
        "print(np.shape(edge_index))\n",
        "print(np.min(edge_index))\n",
        "print(np.max(edge_index))"
      ]
    },
    {
      "cell_type": "code",
      "execution_count": 19,
      "metadata": {},
      "outputs": [
        {
          "data": {
            "text/plain": [
              "0"
            ]
          },
          "execution_count": 19,
          "metadata": {},
          "output_type": "execute_result"
        }
      ],
      "source": [
        "len(edge_index.T[np.isnan(edge_index.T).any(axis=1)])"
      ]
    },
    {
      "cell_type": "code",
      "execution_count": 20,
      "metadata": {
        "colab": {
          "base_uri": "https://localhost:8080/"
        },
        "id": "31X7Z5bJYD-i",
        "outputId": "354dd1d0-e8b8-40cb-eaf3-850406d5348e"
      },
      "outputs": [],
      "source": [
        "edge_features = station_pairs[station_pairs[\"edge\"] == True][\"distance\"].values\n",
        "#edge_features"
      ]
    },
    {
      "cell_type": "code",
      "execution_count": 21,
      "metadata": {
        "colab": {
          "base_uri": "https://localhost:8080/"
        },
        "id": "CaRges7pYLKQ",
        "outputId": "edbc1ff3-3f91-4f2b-fd5f-856271229548"
      },
      "outputs": [],
      "source": [
        "from pandas._libs.tslibs.offsets import YearOffset\n",
        "start_date = data.iloc[0]['started_at']\n",
        "end_date = data.iloc[-1]['started_at']\n",
        "interval = timedelta(hours=3)\n",
        "\n",
        "\n",
        "labels = []\n",
        "\n",
        "#stop = start_date + timedelta(hours=24)\n",
        "#while start_date <= stop:\n",
        "while start_date <= end_date:\n",
        "    \n",
        "    current_snapshot = data[((start_date + interval) >= data[\"ended_at\"]) & (start_date <= data[\"ended_at\"])]\n",
        "    \n",
        "    # Compute average duration of trips along the same edge\n",
        "    current_snapshot = current_snapshot.groupby([\"start_station_id\", \"end_station_id\"]).mean().reset_index()\n",
        "    \n",
        "    # Labels as the number of outgoing trips from each station within this hour\n",
        "    start_stations = np.zeros_like(data[\"start_station_id\"].unique())\n",
        "\n",
        "    y = current_snapshot.groupby(\"start_station_id\").count()['start_lat'].values\n",
        "    y_index = np.unique(current_snapshot[[\"start_station_id\"]].values.transpose())\n",
        "\n",
        "    \n",
        "    start_stations[y_index] = y\n",
        "    labels.append(start_stations)\n",
        "\n",
        "    start_date += interval\n"
      ]
    },
    {
      "cell_type": "code",
      "execution_count": 22,
      "metadata": {
        "colab": {
          "base_uri": "https://localhost:8080/"
        },
        "id": "ujTzYCE5kaq7",
        "outputId": "71576410-6036-4ee9-cb9c-b07c3f6acdc5"
      },
      "outputs": [
        {
          "name": "stdout",
          "output_type": "stream",
          "text": [
            "248\n",
            "Example of graph snapshot 9: \n",
            "\n",
            "      Node feature shape: (1808, 2) \n",
            "\n",
            "      Edge index shape: (2, 685) \n",
            "\n",
            "      Edge feature shape: (685,) \n",
            " \n",
            "      Labels shape: (1808,) \n",
            "\n",
            "      \n"
          ]
        }
      ],
      "source": [
        "print(len(labels))\n",
        "i = 9\n",
        "print(f\"\"\"Example of graph snapshot {i}: \\n\n",
        "      Node feature shape: {node_features.shape} \\n\n",
        "      Edge index shape: {edge_index.shape} \\n\n",
        "      Edge feature shape: {edge_features.shape} \\n \n",
        "      Labels shape: {labels[i].shape} \\n\n",
        "      \"\"\")"
      ]
    },
    {
      "cell_type": "code",
      "execution_count": 23,
      "metadata": {
        "colab": {
          "base_uri": "https://localhost:8080/"
        },
        "id": "GfSKHg9dL7oU",
        "outputId": "fcfc90c7-50cf-4851-9332-748c5318d8f7"
      },
      "outputs": [
        {
          "data": {
            "text/plain": [
              "array([0, 0, 1, 0, 0, 1, 2, 0, 0, 0, 0, 0, 0, 0, 0, 0, 1, 0, 0, 0, 0, 0,\n",
              "       0, 0, 0, 0, 0, 0, 0, 0, 0, 0, 2, 0, 0, 0, 0, 0, 0, 0, 0, 0, 0, 0,\n",
              "       0, 0, 0, 0, 0, 0, 0, 0, 0, 0, 1, 0, 2, 0, 0, 0, 0, 0, 0, 1, 0, 0,\n",
              "       1, 1, 0, 2, 0, 0, 0, 0, 0, 0, 0, 0, 0, 0, 1, 0, 0, 0, 0, 1, 0, 0,\n",
              "       0, 0, 0, 0, 0, 0, 0, 0, 0, 2, 0, 0], dtype=int64)"
            ]
          },
          "execution_count": 23,
          "metadata": {},
          "output_type": "execute_result"
        }
      ],
      "source": [
        "labels[9][100:200]"
      ]
    },
    {
      "attachments": {},
      "cell_type": "markdown",
      "metadata": {},
      "source": [
        "### Sliding Window to Map Labels (Features) to Labels (Targets)"
      ]
    },
    {
      "cell_type": "code",
      "execution_count": 24,
      "metadata": {},
      "outputs": [],
      "source": [
        "outgoing = np.array(labels)"
      ]
    },
    {
      "attachments": {},
      "cell_type": "markdown",
      "metadata": {},
      "source": [
        "outgoing[i][j] is an array that contains the number of outgoing trips from the jth station in the ith timestep"
      ]
    },
    {
      "attachments": {},
      "cell_type": "markdown",
      "metadata": {},
      "source": [
        "outgoing is our feature and our target, if we use 5 timesteps to predict the next 5 steps, then \n",
        "outgoing[i-5:i][:] would be our x, and outgoing[i:i + 5][:] would be our y.\n",
        "We use a sliding window to construct our x and y from outgoing\n"
      ]
    },
    {
      "cell_type": "code",
      "execution_count": 25,
      "metadata": {},
      "outputs": [
        {
          "data": {
            "text/plain": [
              "(248, 1808)"
            ]
          },
          "execution_count": 25,
          "metadata": {},
          "output_type": "execute_result"
        }
      ],
      "source": [
        "np.shape(outgoing)"
      ]
    },
    {
      "cell_type": "code",
      "execution_count": 26,
      "metadata": {},
      "outputs": [
        {
          "data": {
            "text/plain": [
              "(248,)"
            ]
          },
          "execution_count": 26,
          "metadata": {},
          "output_type": "execute_result"
        }
      ],
      "source": [
        "np.shape(np.sum(outgoing, axis=1))"
      ]
    },
    {
      "cell_type": "code",
      "execution_count": 27,
      "metadata": {},
      "outputs": [
        {
          "data": {
            "text/plain": [
              "<AxesSubplot:xlabel='index', ylabel='trips_per_hour'>"
            ]
          },
          "execution_count": 27,
          "metadata": {},
          "output_type": "execute_result"
        },
        {
          "data": {
            "image/png": "[encoded data removed]",
            "text/plain": [
              "<Figure size 640x480 with 1 Axes>"
            ]
          },
          "metadata": {},
          "output_type": "display_data"
        }
      ],
      "source": [
        "import seaborn as sns\n",
        "sns.scatterplot(x=\"index\", y=\"trips_per_hour\", data=pd.DataFrame(np.sum(outgoing, axis = 1), columns=[\"trips_per_hour\"]).reset_index())"
      ]
    },
    {
      "cell_type": "code",
      "execution_count": 28,
      "metadata": {},
      "outputs": [
        {
          "data": {
            "text/plain": [
              "(array([65., 16., 27., 16., 37., 36., 18., 14., 15.,  4.]),\n",
              " array([  63. ,  508.7,  954.4, 1400.1, 1845.8, 2291.5, 2737.2, 3182.9,\n",
              "        3628.6, 4074.3, 4520. ]),\n",
              " <BarContainer object of 10 artists>)"
            ]
          },
          "execution_count": 28,
          "metadata": {},
          "output_type": "execute_result"
        },
        {
          "data": {
            "image/png": "[encoded data removed]",
            "text/plain": [
              "<Figure size 640x480 with 1 Axes>"
            ]
          },
          "metadata": {},
          "output_type": "display_data"
        }
      ],
      "source": [
        "import matplotlib.pyplot as plt\n",
        "plt.hist(np.sum(outgoing, axis = 1))"
      ]
    },
    {
      "cell_type": "code",
      "execution_count": 29,
      "metadata": {},
      "outputs": [
        {
          "data": {
            "text/plain": [
              "(array([65., 16., 27., 16., 37., 36., 18., 14., 15.,  4.]),\n",
              " array([0.03484513, 0.28136062, 0.52787611, 0.77439159, 1.02090708,\n",
              "        1.26742257, 1.51393805, 1.76045354, 2.00696903, 2.25348451,\n",
              "        2.5       ]),\n",
              " <BarContainer object of 10 artists>)"
            ]
          },
          "execution_count": 29,
          "metadata": {},
          "output_type": "execute_result"
        },
        {
          "data": {
            "image/png": "[encoded data removed]",
            "text/plain": [
              "<Figure size 640x480 with 1 Axes>"
            ]
          },
          "metadata": {},
          "output_type": "display_data"
        }
      ],
      "source": [
        "plt.hist(np.average(outgoing, axis=1))"
      ]
    },
    {
      "cell_type": "code",
      "execution_count": null,
      "metadata": {},
      "outputs": [],
      "source": []
    },
    {
      "cell_type": "code",
      "execution_count": 30,
      "metadata": {},
      "outputs": [
        {
          "data": {
            "text/plain": [
              "1805.0"
            ]
          },
          "execution_count": 30,
          "metadata": {},
          "output_type": "execute_result"
        }
      ],
      "source": [
        "np.max(edge_index)"
      ]
    },
    {
      "cell_type": "code",
      "execution_count": 31,
      "metadata": {},
      "outputs": [
        {
          "name": "stdout",
          "output_type": "stream",
          "text": [
            "True\n",
            "[0 1 2 3]  :      [4 5]\n",
            "[1 2 3 4]  :      [5 6]\n",
            "[2 3 4 5]  :      [6 7]\n",
            "[3 4 5 6]  :      [7 8]\n",
            "[4 5 6 7]  :      [8 9]\n",
            "[5 6 7 8]  :      [ 9 10]\n",
            "[6 7 8 9]  :      [10 11]\n",
            "[ 7  8  9 10]  :      [11 12]\n",
            "[ 8  9 10 11]  :      [12 13]\n",
            "[ 9 10 11 12]  :      [13 14]\n",
            "[10 11 12 13]  :      [14 15]\n",
            "[11 12 13 14]  :      [15 16]\n",
            "[12 13 14 15]  :      [16 17]\n",
            "[13 14 15 16]  :      [17 18]\n",
            "[14 15 16 17]  :      [18 19]\n",
            "[15 16 17 18]  :      [19 20]\n",
            "[16 17 18 19]  :      [20 21]\n",
            "[17 18 19 20]  :      [21 22]\n",
            "[18 19 20 21]  :      [22 23]\n"
          ]
        }
      ],
      "source": [
        "from typing import Tuple\n",
        "import math\n",
        "#need to create features np array and targets np array\n",
        "#using sliding window\n",
        "#parameters time_steps_in and time_steps_out\n",
        "#should use 24 hours for proof of concept\n",
        "def sliding_window(data: np.array, timestep_in: int, timestep_out: int) -> Tuple[np.array, np.array]:\n",
        "    n = len(data)\n",
        "    if(timestep_in + timestep_out > len(data)):\n",
        "        print(\"Timestep sizes (\" + str(timestep_in) + \", \" + str(timestep_out) + \") are too large for data length: \" + str(n))\n",
        "    else:\n",
        "        x = np.array([data[i: i + timestep_in] for i in range(n - timestep_in - timestep_out + 1)])\n",
        "        y = np.array([data[i: i + timestep_out] for i in range(timestep_in, n - timestep_out + 1)])\n",
        "        return(x, y)\n",
        "    # else:\n",
        "    #     n = len(data)\n",
        "    #     if(timestep_in + timestep_out > len(data)):\n",
        "    #         print(\"Timestep sizes (\" + str(timestep_in) + \", \" + str(timestep_out) + \") are too large for data length: \" + str(n))\n",
        "    #     else:\n",
        "    #         x = np.array([data[i: i + timestep_in] for i in range(n - timestep_in - timestep_out + 1, timestep_in)])\n",
        "    #         y = np.array([data[i: i + timestep_out] for i in range(n - timestep_in, n - timestep_out + 1, timestep_in)])\n",
        "    #         return (x, y)\n",
        "\n",
        "x, y = sliding_window(np.arange(24), 4, 2)\n",
        "print(len(x) == len(y))\n",
        "for i in range(len(x)):\n",
        "    print(str(x[i]) + \"  :      \" + str(y[i]))"
      ]
    },
    {
      "cell_type": "code",
      "execution_count": 32,
      "metadata": {},
      "outputs": [
        {
          "name": "stdout",
          "output_type": "stream",
          "text": [
            "Shape of x: (225, 1808, 1, 12)\n",
            "Shape of y: (225, 1808, 12)\n"
          ]
        }
      ],
      "source": [
        "x, y = sliding_window(outgoing, 12, 12)\n",
        "#reshaping x and y for temporal graph neural network\n",
        "x = np.expand_dims(np.transpose(x, (0, 2, 1)), axis = 2)\n",
        "y = np.transpose(y, (0, 2, 1))\n",
        "print(\"Shape of x: \" + str(np.shape(x)))\n",
        "print(\"Shape of y: \" + str(np.shape(y)))"
      ]
    },
    {
      "attachments": {},
      "cell_type": "markdown",
      "metadata": {},
      "source": [
        "## Creating Basic Graph Neural Network"
      ]
    },
    {
      "attachments": {},
      "cell_type": "markdown",
      "metadata": {},
      "source": [
        "### Creating Graph Objects"
      ]
    },
    {
      "attachments": {},
      "cell_type": "markdown",
      "metadata": {},
      "source": [
        "#### Creating First Graph Object"
      ]
    },
    {
      "cell_type": "code",
      "execution_count": 33,
      "metadata": {},
      "outputs": [],
      "source": [
        "import torch\n",
        "import torch_geometric\n",
        "import torch_geometric_temporal\n",
        "from torch_geometric.data import Data\n",
        "from torch_geometric.loader import DataLoader\n",
        "from torch_geometric_temporal import StaticGraphTemporalSignal"
      ]
    },
    {
      "cell_type": "code",
      "execution_count": 34,
      "metadata": {},
      "outputs": [],
      "source": [
        "temporal_dataset = StaticGraphTemporalSignal(edge_index=edge_index, edge_weight=edge_features, features=x, targets=y)"
      ]
    },
    {
      "cell_type": "code",
      "execution_count": 35,
      "metadata": {},
      "outputs": [
        {
          "name": "stdout",
          "output_type": "stream",
          "text": [
            "Data(x=[1808, 1, 12], edge_index=[2, 685], edge_attr=[685], y=[1808, 12])\n"
          ]
        }
      ],
      "source": [
        "print(temporal_dataset[0])"
      ]
    },
    {
      "cell_type": "code",
      "execution_count": 36,
      "metadata": {},
      "outputs": [],
      "source": [
        "from torch_geometric_temporal.signal import temporal_signal_split\n",
        "train_dataset, test_dataset = temporal_signal_split(temporal_dataset, train_ratio=0.8)\n",
        "\n",
        "#print(\"Number of train buckets: \", len(set(train_dataset)))\n",
        "#print(\"Number of test buckets: \", len(set(test_dataset)))"
      ]
    },
    {
      "cell_type": "code",
      "execution_count": 37,
      "metadata": {},
      "outputs": [
        {
          "data": {
            "text/plain": [
              "torch_geometric_temporal.signal.static_graph_temporal_signal.StaticGraphTemporalSignal"
            ]
          },
          "execution_count": 37,
          "metadata": {},
          "output_type": "execute_result"
        }
      ],
      "source": [
        "type(train_dataset)"
      ]
    },
    {
      "cell_type": "code",
      "execution_count": 38,
      "metadata": {},
      "outputs": [
        {
          "data": {
            "text/plain": [
              "180"
            ]
          },
          "execution_count": 38,
          "metadata": {},
          "output_type": "execute_result"
        }
      ],
      "source": [
        "train_dataset.snapshot_count"
      ]
    },
    {
      "cell_type": "code",
      "execution_count": 39,
      "metadata": {},
      "outputs": [
        {
          "data": {
            "text/plain": [
              "Data(x=[1808, 1, 12], edge_index=[2, 685], edge_attr=[685], y=[1808, 12])"
            ]
          },
          "execution_count": 39,
          "metadata": {},
          "output_type": "execute_result"
        }
      ],
      "source": [
        "next(iter(train_dataset))"
      ]
    },
    {
      "cell_type": "code",
      "execution_count": 40,
      "metadata": {},
      "outputs": [
        {
          "data": {
            "text/plain": [
              "(225, 1808, 1, 12)"
            ]
          },
          "execution_count": 40,
          "metadata": {},
          "output_type": "execute_result"
        }
      ],
      "source": [
        "np.shape(x)"
      ]
    },
    {
      "cell_type": "code",
      "execution_count": 41,
      "metadata": {},
      "outputs": [
        {
          "data": {
            "text/plain": [
              "TemporalGNN(\n",
              "  (tgnn): A3TGCN(\n",
              "    (_base_tgcn): TGCN(\n",
              "      (conv_z): GCNConv(1, 32)\n",
              "      (linear_z): Linear(in_features=64, out_features=32, bias=True)\n",
              "      (conv_r): GCNConv(1, 32)\n",
              "      (linear_r): Linear(in_features=64, out_features=32, bias=True)\n",
              "      (conv_h): GCNConv(1, 32)\n",
              "      (linear_h): Linear(in_features=64, out_features=32, bias=True)\n",
              "    )\n",
              "  )\n",
              "  (linear): Linear(in_features=32, out_features=12, bias=True)\n",
              ")"
            ]
          },
          "execution_count": 41,
          "metadata": {},
          "output_type": "execute_result"
        }
      ],
      "source": [
        "import torch\n",
        "import torch.nn.functional as F\n",
        "from torch_geometric_temporal.nn.recurrent import A3TGCN\n",
        "\n",
        "#used https://www.youtube.com/watch?v=Rws9mf1aWUs to help with temporal GNN syntax and implementation\n",
        "\n",
        "class TemporalGNN(torch.nn.Module):\n",
        "    def __init__(self, node_features, periods_in, periods_out):\n",
        "        super(TemporalGNN, self).__init__()\n",
        "        # Attention Temporal Graph Convolutional Cell\n",
        "        self.tgnn = A3TGCN(in_channels=node_features, \n",
        "                           out_channels=32, \n",
        "                           periods=periods_in)\n",
        "        # Equals single-shot prediction\n",
        "        self.linear = torch.nn.Linear(32, periods_out)\n",
        "\n",
        "    def forward(self, x, edge_index):\n",
        "        \"\"\"\n",
        "        x = Node features for T time steps\n",
        "        edge_index = Graph edge indices\n",
        "        \"\"\"\n",
        "        h = self.tgnn(x, edge_index)\n",
        "        h = F.relu(h)\n",
        "        h = self.linear(h)\n",
        "        return h\n",
        "\n",
        "TemporalGNN(node_features=1, periods_in=12, periods_out = 12)"
      ]
    },
    {
      "cell_type": "code",
      "execution_count": 42,
      "metadata": {},
      "outputs": [
        {
          "name": "stdout",
          "output_type": "stream",
          "text": [
            "Running training...\n"
          ]
        }
      ],
      "source": [
        "#used https://www.youtube.com/watch?v=Rws9mf1aWUs to help with temporal GNN syntax and implementation\n",
        "\n",
        "# GPU support\n",
        "device = torch.device('cpu') # cuda\n",
        "subset = 200 #can modify subset when running into memory bottlenecks\n",
        "\n",
        "# Create model and optimizers\n",
        "model = TemporalGNN(node_features=1, periods_in=12, periods_out=12).to(device)\n",
        "optimizer = torch.optim.Adam(model.parameters(), lr=0.01)\n",
        "model.train()\n",
        "\n",
        "\n",
        "training_mses = []\n",
        "testing_mses = []\n",
        "\n",
        "print(\"Running training...\")\n",
        "for epoch in range(50): \n",
        "    loss = 0\n",
        "    step = 0\n",
        "    snapshot_count = train_dataset.snapshot_count\n",
        "    if(snapshot_count > subset):\n",
        "      skip = 0\n",
        "      for snapshot in train_dataset:\n",
        "        if skip < snapshot_count - subset:\n",
        "          skip += 1\n",
        "        else:\n",
        "          #print(step)\n",
        "          snapshot = snapshot.to(device)\n",
        "          # Get model predictions\n",
        "          y_hat = model(snapshot.x, snapshot.edge_index)\n",
        "          # Mean squared error\n",
        "          loss = loss + torch.mean((y_hat-snapshot.y)**2) \n",
        "          step += 1\n",
        "    else:\n",
        "      for snapshot in train_dataset:\n",
        "          #print(step)\n",
        "          snapshot = snapshot.to(device)\n",
        "          # Get model predictions\n",
        "          y_hat = model(snapshot.x, snapshot.edge_index)\n",
        "          # Mean squared error\n",
        "          loss = loss + torch.mean((y_hat-snapshot.y)**2) \n",
        "          step += 1\n",
        "          if step > subset:\n",
        "            break\n",
        "\n",
        "    loss = loss / (step + 1)\n",
        "    training_mses.append(loss.item())\n",
        "    model.eval()\n",
        "    with torch.no_grad():\n",
        "      testing_loss = 0\n",
        "      testing_step = 0\n",
        "      for snapshot in test_dataset:\n",
        "        y_hat = model(snapshot.x, snapshot.edge_index)\n",
        "        testing_loss = testing_loss + torch.mean((y_hat-snapshot.y)**2)\n",
        "        testing_step += 1\n",
        "      testing_loss = testing_loss / (testing_step + 1)\n",
        "      testing_mses.append(testing_loss.item())\n",
        "    loss.backward()\n",
        "    optimizer.step()\n",
        "    optimizer.zero_grad()\n",
        "    print(\"Epoch {} train MSE: {:.4f}\".format(epoch, loss.item()))\n",
        "    print(\"Epoch {} test MSE: {:.4f}\".format(epoch, testing_loss.item()))"
      ]
    },
    {
      "cell_type": "code",
      "execution_count": null,
      "metadata": {},
      "outputs": [],
      "source": [
        "plt.figure(figsize=(20,5))\n",
        "plt.xlabel(\"Epoch\")\n",
        "plt.ylabel(\"Mean Squared Error\")\n",
        "plt.title(\"Training and Testing Loss\")\n",
        "\n",
        "sns.lineplot(data=training_mses, label=\"Training MSEs\")\n",
        "sns.lineplot(data=testing_mses, label=\"Testing MSEs\")"
      ]
    },
    {
      "cell_type": "code",
      "execution_count": null,
      "metadata": {},
      "outputs": [
        {
          "name": "stdout",
          "output_type": "stream",
          "text": [
            "Test MSE: 2.9946\n"
          ]
        }
      ],
      "source": [
        "#used https://www.youtube.com/watch?v=Rws9mf1aWUs to help with temporal GNN syntax and implementation\n",
        "\n",
        "model.eval()\n",
        "loss = 0\n",
        "step = 0\n",
        "horizon = 12\n",
        "\n",
        "# Store for analysis\n",
        "predictions = []\n",
        "labels = []\n",
        "\n",
        "for snapshot in test_dataset:\n",
        "    snapshot = snapshot.to(device)\n",
        "    # Get predictions\n",
        "    y_hat = model(snapshot.x, snapshot.edge_index)\n",
        "    # Mean squared error\n",
        "    loss = loss + torch.mean((y_hat-snapshot.y)**2)\n",
        "    # Store for analysis below\n",
        "    labels.append(snapshot.y)\n",
        "    predictions.append(y_hat)\n",
        "    step += 1\n",
        "    #if step > horizon:\n",
        "    #      break\n",
        "\n",
        "loss = loss / (step+1)\n",
        "loss = loss.item()\n",
        "print(\"Test MSE: {:.4f}\".format(loss))"
      ]
    },
    {
      "cell_type": "code",
      "execution_count": null,
      "metadata": {},
      "outputs": [
        {
          "data": {
            "text/plain": [
              "(1808,)"
            ]
          },
          "execution_count": 43,
          "metadata": {},
          "output_type": "execute_result"
        }
      ],
      "source": [
        "np.shape(outgoing[0])"
      ]
    },
    {
      "cell_type": "code",
      "execution_count": null,
      "metadata": {},
      "outputs": [
        {
          "name": "stdout",
          "output_type": "stream",
          "text": [
            "Data points:, (45,)\n"
          ]
        },
        {
          "data": {
            "text/plain": [
              "<AxesSubplot:>"
            ]
          },
          "execution_count": 44,
          "metadata": {},
          "output_type": "execute_result"
        },
        {
          "data": {
            "image/png": "[encoded data removed]",
            "text/plain": [
              "<Figure size 2000x500 with 1 Axes>"
            ]
          },
          "metadata": {},
          "output_type": "display_data"
        }
      ],
      "source": [
        "import matplotlib.pyplot as plt\n",
        "import seaborn as sns \n",
        "\n",
        "sensor = 55\n",
        "timestep = 0\n",
        "preds = np.asarray([pred[sensor][timestep].detach().cpu().numpy() for pred in predictions])\n",
        "labs  = np.asarray([label[sensor][timestep].cpu().numpy() for label in labels])\n",
        "print(\"Data points:,\", preds.shape)\n",
        "\n",
        "plt.figure(figsize=(20,5))\n",
        "sns.lineplot(data=preds, label=\"pred\")\n",
        "sns.lineplot(data=labs, label=\"true\")"
      ]
    }
  ],
  "metadata": {
    "colab": {
      "provenance": []
    },
    "kernelspec": {
      "display_name": "Python 3",
      "name": "python3"
    },
    "language_info": {
      "codemirror_mode": {
        "name": "ipython",
        "version": 3
      },
      "file_extension": ".py",
      "mimetype": "text/x-python",
      "name": "python",
      "nbconvert_exporter": "python",
      "pygments_lexer": "ipython3",
      "version": "3.7.11"
    }
  },
  "nbformat": 4,
  "nbformat_minor": 0
}
